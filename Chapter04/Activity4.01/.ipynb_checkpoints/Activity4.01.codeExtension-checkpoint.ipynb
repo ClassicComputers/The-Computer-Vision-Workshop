{
 "cells": [
  {
   "cell_type": "code",
   "execution_count": 1,
   "metadata": {},
   "outputs": [
    {
     "ename": "AttributeError",
     "evalue": "'module' object has no attribute 'CONTOURS_MATCH_I1'",
     "output_type": "error",
     "traceback": [
      "\u001b[1;31m---------------------------------------------------------------------------\u001b[0m",
      "\u001b[1;31mAttributeError\u001b[0m                            Traceback (most recent call last)",
      "\u001b[1;32m<ipython-input-1-6e8fb878beb5>\u001b[0m in \u001b[0;36m<module>\u001b[1;34m()\u001b[0m\n\u001b[0;32m     39\u001b[0m \u001b[0mdist_list\u001b[0m\u001b[1;33m=\u001b[0m \u001b[1;33m[\u001b[0m\u001b[1;33m]\u001b[0m\u001b[1;33m\u001b[0m\u001b[0m\n\u001b[0;32m     40\u001b[0m \u001b[1;32mfor\u001b[0m \u001b[0mcnt\u001b[0m \u001b[1;32min\u001b[0m \u001b[0mcontours_list\u001b[0m\u001b[1;33m:\u001b[0m\u001b[1;33m\u001b[0m\u001b[0m\n\u001b[1;32m---> 41\u001b[1;33m     \u001b[0mretval\u001b[0m      \u001b[1;33m=\u001b[0m       \u001b[0mcv2\u001b[0m\u001b[1;33m.\u001b[0m\u001b[0mmatchShapes\u001b[0m\u001b[1;33m(\u001b[0m\u001b[0mcnt\u001b[0m\u001b[1;33m,\u001b[0m \u001b[0mref_contour\u001b[0m\u001b[1;33m,\u001b[0m\u001b[0mcv2\u001b[0m\u001b[1;33m.\u001b[0m\u001b[0mCONTOURS_MATCH_I1\u001b[0m\u001b[1;33m,\u001b[0m\u001b[1;36m0\u001b[0m\u001b[1;33m)\u001b[0m\u001b[1;33m\u001b[0m\u001b[0m\n\u001b[0m\u001b[0;32m     42\u001b[0m     \u001b[0mdist_list\u001b[0m\u001b[1;33m.\u001b[0m\u001b[0mappend\u001b[0m\u001b[1;33m(\u001b[0m\u001b[0mretval\u001b[0m\u001b[1;33m)\u001b[0m\u001b[1;33m\u001b[0m\u001b[0m\n\u001b[0;32m     43\u001b[0m     \u001b[0mctr\u001b[0m\u001b[1;33m=\u001b[0m \u001b[0mctr\u001b[0m\u001b[1;33m+\u001b[0m\u001b[1;36m1\u001b[0m\u001b[1;33m\u001b[0m\u001b[0m\n",
      "\u001b[1;31mAttributeError\u001b[0m: 'module' object has no attribute 'CONTOURS_MATCH_I1'"
     ]
    }
   ],
   "source": [
    "import cv2 \n",
    "\n",
    "image = cv2.imread('phrase_handwritten.png') \n",
    "imagecopy= image.copy()\n",
    "cv2.imshow( 'Original image' , image )\n",
    "cv2.waitKey(0) \n",
    "cv2.destroyAllWindows()\n",
    "\n",
    "gray_image = cv2.cvtColor(image,cv2.COLOR_BGR2GRAY) \n",
    "\n",
    "ret,binary_im = cv2.threshold(gray_image,0,255,cv2.THRESH_OTSU) \n",
    "cv2.imshow( 'binary image' , binary_im )\n",
    "cv2.waitKey(0) \n",
    "cv2.destroyAllWindows()\n",
    "\n",
    "contours_list,_ = cv2.findContours(binary_im,cv2.RETR_EXTERNAL,cv2.CHAIN_APPROX_SIMPLE) \n",
    "for cnt in contours_list:\n",
    "    x,y,w,h = cv2.boundingRect(cnt)\n",
    "    cv2.rectangle(image,(x,y),(x+w,y+h),(0, 255, 255),2) \n",
    "cv2.imshow( 'Contours marked on RGB image' , image )\n",
    "cv2.waitKey(0) \n",
    "cv2.destroyAllWindows()\n",
    "\n",
    "ref_gray = cv2.imread('typed_B.png', cv2.IMREAD_GRAYSCALE) \n",
    "ret, ref_binary = cv2.threshold(ref_gray,0,255,cv2.THRESH_OTSU) \n",
    "cv2.imshow( 'Reference image' , ref_binary )\n",
    "cv2.waitKey(0) \n",
    "cv2.destroyAllWindows()\n",
    "\n",
    "ref_contour_list,_ = cv2.findContours(ref_binary, cv2.RETR_EXTERNAL, cv2.CHAIN_APPROX_SIMPLE) \n",
    "if len(ref_contour_list)==1:\n",
    "    ref_contour= ref_contour_list[0]\n",
    "else:\n",
    "    import sys\n",
    "    print('Reference image contains more than 1 contour. Please check!')\n",
    "    sys.exit()\n",
    "    \n",
    "ctr= 0\n",
    "dist_list= []\n",
    "for cnt in contours_list:\n",
    "    retval\t=\tcv2.matchShapes(cnt, ref_contour,cv2.CONTOURS_MATCH_I1,0)\n",
    "    dist_list.append(retval)\n",
    "    ctr= ctr+1\n",
    "\n",
    "min_dist= min(dist_list)  \n",
    "#print('The minimum distance of the reference contour with a contour in the main image is ' + str(min_dist))\n",
    "ind_min_dist= dist_list.index(min_dist)\n",
    "\n",
    "#with_contours = cv2.drawContours(image,contours_list, ind_min_dist, (0,255,255),3) \n",
    "#cv2.imshow( 'contours marked on RGB image' , with_contours )\n",
    "#cv2.waitKey(0) \n",
    "#cv2.destroyAllWindows()\n",
    "\n",
    "x,y,w,h = cv2.boundingRect(contours_list[ind_min_dist])\n",
    "cv2.rectangle(imagecopy,(x,y),(x+w,y+h),(255, 0, 0),2) \n",
    "cv2.imshow( 'Detected B' , imagecopy )\n",
    "cv2.waitKey(0) \n",
    "cv2.destroyAllWindows()\n"
   ]
  },
  {
   "cell_type": "code",
   "execution_count": null,
   "metadata": {
    "collapsed": true
   },
   "outputs": [],
   "source": [
    "\n"
   ]
  },
  {
   "cell_type": "code",
   "execution_count": null,
   "metadata": {
    "collapsed": true
   },
   "outputs": [],
   "source": []
  }
 ],
 "metadata": {
  "kernelspec": {
   "display_name": "Python 2",
   "language": "python",
   "name": "python2"
  },
  "language_info": {
   "codemirror_mode": {
    "name": "ipython",
    "version": 2
   },
   "file_extension": ".py",
   "mimetype": "text/x-python",
   "name": "python",
   "nbconvert_exporter": "python",
   "pygments_lexer": "ipython2",
   "version": "2.7.13"
  }
 },
 "nbformat": 4,
 "nbformat_minor": 2
}
