{
 "cells": [
  {
   "cell_type": "code",
   "execution_count": null,
   "metadata": {
    "collapsed": false
   },
   "outputs": [],
   "source": [
    "# Import required packages:\n",
    "import cv2\n",
    "import matplotlib.pyplot as plt\n",
    "\n",
    "\n",
    "def show_img_matplotlib(img_rgb, title, nrows, ncols, pos):\n",
    "    \"\"\"Shows an image with matplotlib\"\"\"\n",
    "\n",
    "    # First step is convert image from BGR to RGB\n",
    "    img_bgr = img_rgb[:, :, ::-1]\n",
    "\n",
    "    # Second step is to call plt.subplot() and show it:\n",
    "    ax = plt.subplot(nrows, ncols, pos)\n",
    "    plt.imshow(img_bgr)\n",
    "    plt.title(title)\n",
    "    plt.axis('off')\n",
    "\n",
    "\n",
    "# Relative path pointing to the image:\n",
    "path_img = 'Images/lena.jpg'\n",
    "\n",
    "# Load the image:\n",
    "img = cv2.imread(path_img)\n",
    "\n",
    "# Origin: (x = 0, y = 0), width = 200, and height = 100\n",
    "# Calculate the coordinates to draw the yellow rectangle:\n",
    "y_start = 0\n",
    "y_end = y_start + 100\n",
    "x_start = 0\n",
    "x_end = x_start + 200\n",
    "img[y_start:y_end, x_start:x_end] = (0, 255, 255)\n",
    "\n",
    "# Create the dimensions of the figure and set title:\n",
    "fig = plt.figure(figsize=(9, 4))\n",
    "plt.suptitle(\"Draw yellow rectangle\", fontsize=14, fontweight='bold')\n",
    "\n",
    "# Plot the images:\n",
    "show_img_matplotlib(img, \"image\", 1, 1, 1)\n",
    "\n",
    "# Save the Figure:\n",
    "plt.savefig('output.png')\n",
    "plt.show()"
   ]
  },
  {
   "cell_type": "code",
   "execution_count": null,
   "metadata": {
    "collapsed": false
   },
   "outputs": [],
   "source": []
  }
 ],
 "metadata": {
  "kernelspec": {
   "display_name": "Python 2",
   "language": "python",
   "name": "python2"
  },
  "language_info": {
   "codemirror_mode": {
    "name": "ipython",
    "version": 2
   },
   "file_extension": ".py",
   "mimetype": "text/x-python",
   "name": "python",
   "nbconvert_exporter": "python",
   "pygments_lexer": "ipython2",
   "version": "2.7.6"
  }
 },
 "nbformat": 4,
 "nbformat_minor": 0
}
