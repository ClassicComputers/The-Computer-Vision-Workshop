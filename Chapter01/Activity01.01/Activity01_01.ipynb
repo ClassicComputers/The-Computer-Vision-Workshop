{
 "cells": [
  {
   "cell_type": "code",
   "execution_count": null,
   "metadata": {
    "collapsed": true
   },
   "outputs": [],
   "source": [
    "# Import required packages:\n",
    "import cv2\n",
    "import matplotlib.pyplot as plt\n",
    "\n",
    "\n",
    "def show_img_matplotlib(img_rgb, title, nrows, ncols, pos):\n",
    "    \"\"\"Shows an image with matplotlib\"\"\"\n",
    "\n",
    "    # First step is convert image from BGR to RGB\n",
    "    img_bgr = img_rgb[:, :, ::-1]\n",
    "\n",
    "    # Second step is to call plt.subplot() and show it:\n",
    "    ax = plt.subplot(nrows, ncols, pos)\n",
    "    plt.imshow(img_bgr)\n",
    "    plt.title(title)\n",
    "    plt.axis('off')\n",
    "\n",
    "\n",
    "# Relative path pointing to the image:\n",
    "path_img = 'Images/lena.jpg'\n",
    "\n",
    "# Load the image:\n",
    "img = cv2.imread(path_img)\n",
    "\n",
    "# Make a copy of the source image:\n",
    "img_masked_face = img.copy()\n",
    "\n",
    "# Get the shape of the image:\n",
    "(height, width, channels) = img.shape\n",
    "\n",
    "# Just print the obtained information (shape of the loaded image):\n",
    "print(\"Height: '{}', width: '{}', channels: '{}'\".format(height, width, channels))\n",
    "\n",
    "# This will create a (width x height) 110x140 pixels image:\n",
    "img_face = img[230:370, 240:350]\n",
    "print(\"Shape (height, width, channels): '{}'\".format(img_face.shape))\n",
    "\n",
    "# Origin: (x = 240, y = 230), width = 110, and height = 140\n",
    "# Calculate the coordinates and mask the image:\n",
    "y_start = 230\n",
    "y_end = y_start + 140\n",
    "x_start = 240\n",
    "x_end = 240 + 110\n",
    "img_masked_face[y_start:y_end, x_start:x_end] = (0, 0, 255)\n",
    "\n",
    "# Create the dimensions of the figure and set title:\n",
    "fig = plt.figure(figsize=(9, 4))\n",
    "plt.suptitle(\"Preserving user identity\", fontsize=14, fontweight='bold')\n",
    "\n",
    "# Plot the images:\n",
    "show_img_matplotlib(img, \"image\", 1, 3, 1)\n",
    "show_img_matplotlib(img_masked_face, \"masked image\", 1, 3, 2)\n",
    "show_img_matplotlib(img_face, \"face\", 1, 3, 3)\n",
    "\n",
    "# Show the Figure:\n",
    "plt.show()\n",
    "\n"
   ]
  }
 ],
 "metadata": {
  "kernelspec": {
   "display_name": "Python 2",
   "language": "python",
   "name": "python2"
  },
  "language_info": {
   "codemirror_mode": {
    "name": "ipython",
    "version": 2
   },
   "file_extension": ".py",
   "mimetype": "text/x-python",
   "name": "python",
   "nbconvert_exporter": "python",
   "pygments_lexer": "ipython2",
   "version": "2.7.6"
  }
 },
 "nbformat": 4,
 "nbformat_minor": 0
}
