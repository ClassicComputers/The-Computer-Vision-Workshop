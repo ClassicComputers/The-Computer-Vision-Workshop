{
 "cells": [
  {
   "cell_type": "code",
   "execution_count": 1,
   "metadata": {},
   "outputs": [
    {
     "name": "stdout",
     "output_type": "stream",
     "text": [
      "Hello World!\n"
     ]
    }
   ],
   "source": [
    "print(\"Hello World!\")"
   ]
  },
  {
   "cell_type": "code",
   "execution_count": 2,
   "metadata": {},
   "outputs": [],
   "source": [
    "import numpy as np"
   ]
  },
  {
   "cell_type": "code",
   "execution_count": 3,
   "metadata": {},
   "outputs": [],
   "source": [
    "npArray = np.zeros((5,6))"
   ]
  },
  {
   "cell_type": "code",
   "execution_count": 4,
   "metadata": {},
   "outputs": [
    {
     "name": "stdout",
     "output_type": "stream",
     "text": [
      "[[0. 0. 0. 0. 0. 0.]\n",
      " [0. 0. 0. 0. 0. 0.]\n",
      " [0. 0. 0. 0. 0. 0.]\n",
      " [0. 0. 0. 0. 0. 0.]\n",
      " [0. 0. 0. 0. 0. 0.]]\n"
     ]
    }
   ],
   "source": [
    "print(npArray)"
   ]
  },
  {
   "cell_type": "code",
   "execution_count": 5,
   "metadata": {},
   "outputs": [
    {
     "name": "stdout",
     "output_type": "stream",
     "text": [
      "float64\n"
     ]
    }
   ],
   "source": [
    "print(npArray.dtype)"
   ]
  },
  {
   "cell_type": "code",
   "execution_count": 6,
   "metadata": {},
   "outputs": [
    {
     "name": "stdout",
     "output_type": "stream",
     "text": [
      "(5, 6)\n"
     ]
    }
   ],
   "source": [
    "print(npArray.shape)"
   ]
  },
  {
   "cell_type": "code",
   "execution_count": 7,
   "metadata": {},
   "outputs": [
    {
     "name": "stdout",
     "output_type": "stream",
     "text": [
      "Number of rows in array = 5\n",
      "Number of columns in array = 6\n"
     ]
    }
   ],
   "source": [
    "print(\"Number of rows in array = {}\".format(npArray.shape[0]))\n",
    "print(\"Number of columns in array = {}\".format(npArray.shape[1]))"
   ]
  },
  {
   "cell_type": "code",
   "execution_count": 8,
   "metadata": {},
   "outputs": [],
   "source": [
    "npArray = np.zeros((5,6), dtype=np.uint8)"
   ]
  },
  {
   "cell_type": "code",
   "execution_count": 9,
   "metadata": {},
   "outputs": [
    {
     "name": "stdout",
     "output_type": "stream",
     "text": [
      "[[0 0 0 0 0 0]\n",
      " [0 0 0 0 0 0]\n",
      " [0 0 0 0 0 0]\n",
      " [0 0 0 0 0 0]\n",
      " [0 0 0 0 0 0]]\n"
     ]
    }
   ],
   "source": [
    "print(npArray)"
   ]
  },
  {
   "cell_type": "code",
   "execution_count": 10,
   "metadata": {},
   "outputs": [
    {
     "name": "stdout",
     "output_type": "stream",
     "text": [
      "uint8\n"
     ]
    }
   ],
   "source": [
    "print(npArray.dtype)"
   ]
  },
  {
   "cell_type": "code",
   "execution_count": 11,
   "metadata": {},
   "outputs": [
    {
     "name": "stdout",
     "output_type": "stream",
     "text": [
      "(5, 6)\n"
     ]
    }
   ],
   "source": [
    "print(npArray.shape)"
   ]
  },
  {
   "cell_type": "code",
   "execution_count": 12,
   "metadata": {},
   "outputs": [
    {
     "name": "stdout",
     "output_type": "stream",
     "text": [
      "Number of rows in array = 5\n",
      "Number of columns in array = 6\n"
     ]
    }
   ],
   "source": [
    "print(\"Number of rows in array = {}\".format(npArray.shape[0]))\n",
    "print(\"Number of columns in array = {}\".format(npArray.shape[1]))"
   ]
  },
  {
   "cell_type": "code",
   "execution_count": 13,
   "metadata": {},
   "outputs": [
    {
     "name": "stdout",
     "output_type": "stream",
     "text": [
      "[[1 1 1 1 1 1]\n",
      " [1 1 1 1 1 1]\n",
      " [1 1 1 1 1 1]\n",
      " [1 1 1 1 1 1]\n",
      " [1 1 1 1 1 1]]\n",
      "uint8\n",
      "(5, 6)\n",
      "Number of rows in array = 5\n",
      "Number of columns in array = 6\n"
     ]
    }
   ],
   "source": [
    "npArray = np.ones((5,6), dtype=np.uint8)\n",
    "\n",
    "print(npArray)\n",
    "\n",
    "print(npArray.dtype)\n",
    "print(npArray.shape)\n",
    "\n",
    "print(\"Number of rows in array = {}\".format(npArray.shape[0]))\n",
    "print(\"Number of columns in array = {}\".format(npArray.shape[1]))"
   ]
  },
  {
   "cell_type": "code",
   "execution_count": 14,
   "metadata": {},
   "outputs": [
    {
     "name": "stdout",
     "output_type": "stream",
     "text": [
      "[[0.96301886 0.81770797 0.01802464 0.49652715 0.64598511 0.2521098 ]\n",
      " [0.07765305 0.04720244 0.77342671 0.04381891 0.78316057 0.71098039]\n",
      " [0.85680932 0.3187085  0.36249545 0.95438979 0.67698903 0.5504892 ]\n",
      " [0.74362469 0.2592782  0.39013768 0.8302662  0.88874501 0.09101705]\n",
      " [0.88305746 0.13893929 0.85616912 0.68043184 0.96132342 0.39737882]]\n",
      "float64\n",
      "(5, 6)\n",
      "Number of rows in array = 5\n",
      "Number of columns in array = 6\n"
     ]
    }
   ],
   "source": [
    "npArray = np.random.rand(5,6)\n",
    "\n",
    "print(npArray)\n",
    "\n",
    "print(npArray.dtype)\n",
    "print(npArray.shape)\n",
    "\n",
    "print(\"Number of rows in array = {}\".format(npArray.shape[0]))\n",
    "print(\"Number of columns in array = {}\".format(npArray.shape[1]))"
   ]
  },
  {
   "cell_type": "code",
   "execution_count": 15,
   "metadata": {},
   "outputs": [
    {
     "name": "stdout",
     "output_type": "stream",
     "text": [
      "[[ 1  2  3  4  5  6]\n",
      " [ 7  8  9 10 11 12]\n",
      " [13 14 15 16 17 18]\n",
      " [19 20 21 22 23 24]\n",
      " [25 26 27 28 29 30]]\n"
     ]
    }
   ],
   "source": [
    "npArray = np.array([[1,2,3,4,5,6],\n",
    "                   [7,8,9,10,11,12],\n",
    "                   [13,14,15,16,17,18],\n",
    "                   [19,20,21,22,23,24],\n",
    "                   [25,26,27,28,29,30]],\n",
    "                  dtype=np.uint8)\n",
    "\n",
    "print(npArray)"
   ]
  },
  {
   "cell_type": "code",
   "execution_count": 16,
   "metadata": {},
   "outputs": [
    {
     "name": "stdout",
     "output_type": "stream",
     "text": [
      "uint8\n",
      "(5, 6)\n",
      "Number of rows in array = 5\n",
      "Number of columns in array = 6\n"
     ]
    }
   ],
   "source": [
    "print(npArray.dtype)\n",
    "print(npArray.shape)\n",
    "\n",
    "print(\"Number of rows in array = {}\".format(npArray.shape[0]))\n",
    "print(\"Number of columns in array = {}\".format(npArray.shape[1]))"
   ]
  }
 ],
 "metadata": {
  "kernelspec": {
   "display_name": "Python 3",
   "language": "python",
   "name": "python3"
  },
  "language_info": {
   "codemirror_mode": {
    "name": "ipython",
    "version": 3
   },
   "file_extension": ".py",
   "mimetype": "text/x-python",
   "name": "python",
   "nbconvert_exporter": "python",
   "pygments_lexer": "ipython3",
   "version": "3.7.1"
  }
 },
 "nbformat": 4,
 "nbformat_minor": 2
}
