{
 "cells": [
  {
   "cell_type": "code",
   "execution_count": 3,
   "metadata": {},
   "outputs": [],
   "source": [
    "import numpy as np\n",
    "import cv2\n",
    "import glob\n",
    "import os \n"
   ]
  },
  {
   "cell_type": "code",
   "execution_count": 4,
   "metadata": {},
   "outputs": [],
   "source": [
    "stopping_criteria = (cv2.TERM_CRITERIA_EPS + cv2.TERM_CRITERIA_MAX_ITER, 45, 0.001)\n",
    "\n",
    "# prepare object points, like (0,0,0), (1,0,0), (2,0,0) ....,(6,5,0)\n",
    "objp = np.zeros((6*7,3), np.float32)\n",
    "objp[:,:2] = np.mgrid[0:7,0:6].T.reshape(-1,2)\n",
    "\n",
    "# Arrays to store object points and image points from all the images.\n",
    "ObjectPoints = [] # 3d point in real world space\n",
    "ImagePoints = [] # 2d points in image plane.\n",
    "\n"
   ]
  },
  {
   "cell_type": "code",
   "execution_count": 5,
   "metadata": {},
   "outputs": [],
   "source": [
    "basefolder= r'C:\\Users\\mbhattac\\OneDrive - HERE Global B.V-\\coding\\opencv_book\\Chapter09\\Section4\\images\\\\'\n",
    "\n",
    "os.chdir(basefolder)\n"
   ]
  },
  {
   "cell_type": "code",
   "execution_count": 6,
   "metadata": {},
   "outputs": [],
   "source": [
    "images = glob.glob(basefolder + \"*.jpg\")\n"
   ]
  },
  {
   "cell_type": "code",
   "execution_count": 7,
   "metadata": {},
   "outputs": [
    {
     "data": {
      "text/plain": [
       "['C:\\\\Users\\\\mbhattac\\\\OneDrive - HERE Global B.V-\\\\coding\\\\opencv_book\\\\Chapter09\\\\Section4\\\\images\\\\Clipped Image.jpg',\n",
       " 'C:\\\\Users\\\\mbhattac\\\\OneDrive - HERE Global B.V-\\\\coding\\\\opencv_book\\\\Chapter09\\\\Section4\\\\images\\\\Image wth chess board pattern.jpg',\n",
       " 'C:\\\\Users\\\\mbhattac\\\\OneDrive - HERE Global B.V-\\\\coding\\\\opencv_book\\\\Chapter09\\\\Section4\\\\images\\\\left01.jpg',\n",
       " 'C:\\\\Users\\\\mbhattac\\\\OneDrive - HERE Global B.V-\\\\coding\\\\opencv_book\\\\Chapter09\\\\Section4\\\\images\\\\left02.jpg',\n",
       " 'C:\\\\Users\\\\mbhattac\\\\OneDrive - HERE Global B.V-\\\\coding\\\\opencv_book\\\\Chapter09\\\\Section4\\\\images\\\\left03.jpg',\n",
       " 'C:\\\\Users\\\\mbhattac\\\\OneDrive - HERE Global B.V-\\\\coding\\\\opencv_book\\\\Chapter09\\\\Section4\\\\images\\\\left04.jpg',\n",
       " 'C:\\\\Users\\\\mbhattac\\\\OneDrive - HERE Global B.V-\\\\coding\\\\opencv_book\\\\Chapter09\\\\Section4\\\\images\\\\left05.jpg',\n",
       " 'C:\\\\Users\\\\mbhattac\\\\OneDrive - HERE Global B.V-\\\\coding\\\\opencv_book\\\\Chapter09\\\\Section4\\\\images\\\\left06.jpg',\n",
       " 'C:\\\\Users\\\\mbhattac\\\\OneDrive - HERE Global B.V-\\\\coding\\\\opencv_book\\\\Chapter09\\\\Section4\\\\images\\\\left07.jpg',\n",
       " 'C:\\\\Users\\\\mbhattac\\\\OneDrive - HERE Global B.V-\\\\coding\\\\opencv_book\\\\Chapter09\\\\Section4\\\\images\\\\left08.jpg',\n",
       " 'C:\\\\Users\\\\mbhattac\\\\OneDrive - HERE Global B.V-\\\\coding\\\\opencv_book\\\\Chapter09\\\\Section4\\\\images\\\\left09.jpg',\n",
       " 'C:\\\\Users\\\\mbhattac\\\\OneDrive - HERE Global B.V-\\\\coding\\\\opencv_book\\\\Chapter09\\\\Section4\\\\images\\\\left11.jpg',\n",
       " 'C:\\\\Users\\\\mbhattac\\\\OneDrive - HERE Global B.V-\\\\coding\\\\opencv_book\\\\Chapter09\\\\Section4\\\\images\\\\left12.jpg',\n",
       " 'C:\\\\Users\\\\mbhattac\\\\OneDrive - HERE Global B.V-\\\\coding\\\\opencv_book\\\\Chapter09\\\\Section4\\\\images\\\\left13.jpg',\n",
       " 'C:\\\\Users\\\\mbhattac\\\\OneDrive - HERE Global B.V-\\\\coding\\\\opencv_book\\\\Chapter09\\\\Section4\\\\images\\\\left14.jpg',\n",
       " 'C:\\\\Users\\\\mbhattac\\\\OneDrive - HERE Global B.V-\\\\coding\\\\opencv_book\\\\Chapter09\\\\Section4\\\\images\\\\right01.jpg',\n",
       " 'C:\\\\Users\\\\mbhattac\\\\OneDrive - HERE Global B.V-\\\\coding\\\\opencv_book\\\\Chapter09\\\\Section4\\\\images\\\\right02.jpg',\n",
       " 'C:\\\\Users\\\\mbhattac\\\\OneDrive - HERE Global B.V-\\\\coding\\\\opencv_book\\\\Chapter09\\\\Section4\\\\images\\\\right03.jpg',\n",
       " 'C:\\\\Users\\\\mbhattac\\\\OneDrive - HERE Global B.V-\\\\coding\\\\opencv_book\\\\Chapter09\\\\Section4\\\\images\\\\right04.jpg',\n",
       " 'C:\\\\Users\\\\mbhattac\\\\OneDrive - HERE Global B.V-\\\\coding\\\\opencv_book\\\\Chapter09\\\\Section4\\\\images\\\\right05.jpg',\n",
       " 'C:\\\\Users\\\\mbhattac\\\\OneDrive - HERE Global B.V-\\\\coding\\\\opencv_book\\\\Chapter09\\\\Section4\\\\images\\\\right06.jpg',\n",
       " 'C:\\\\Users\\\\mbhattac\\\\OneDrive - HERE Global B.V-\\\\coding\\\\opencv_book\\\\Chapter09\\\\Section4\\\\images\\\\right07.jpg',\n",
       " 'C:\\\\Users\\\\mbhattac\\\\OneDrive - HERE Global B.V-\\\\coding\\\\opencv_book\\\\Chapter09\\\\Section4\\\\images\\\\right08.jpg',\n",
       " 'C:\\\\Users\\\\mbhattac\\\\OneDrive - HERE Global B.V-\\\\coding\\\\opencv_book\\\\Chapter09\\\\Section4\\\\images\\\\right09.jpg',\n",
       " 'C:\\\\Users\\\\mbhattac\\\\OneDrive - HERE Global B.V-\\\\coding\\\\opencv_book\\\\Chapter09\\\\Section4\\\\images\\\\right11.jpg',\n",
       " 'C:\\\\Users\\\\mbhattac\\\\OneDrive - HERE Global B.V-\\\\coding\\\\opencv_book\\\\Chapter09\\\\Section4\\\\images\\\\right12.jpg',\n",
       " 'C:\\\\Users\\\\mbhattac\\\\OneDrive - HERE Global B.V-\\\\coding\\\\opencv_book\\\\Chapter09\\\\Section4\\\\images\\\\right13.jpg',\n",
       " 'C:\\\\Users\\\\mbhattac\\\\OneDrive - HERE Global B.V-\\\\coding\\\\opencv_book\\\\Chapter09\\\\Section4\\\\images\\\\right14.jpg',\n",
       " 'C:\\\\Users\\\\mbhattac\\\\OneDrive - HERE Global B.V-\\\\coding\\\\opencv_book\\\\Chapter09\\\\Section4\\\\images\\\\Sample Image.jpg',\n",
       " 'C:\\\\Users\\\\mbhattac\\\\OneDrive - HERE Global B.V-\\\\coding\\\\opencv_book\\\\Chapter09\\\\Section4\\\\images\\\\Second undistorted Image.jpg',\n",
       " 'C:\\\\Users\\\\mbhattac\\\\OneDrive - HERE Global B.V-\\\\coding\\\\opencv_book\\\\Chapter09\\\\Section4\\\\images\\\\Undistorted Image.jpg']"
      ]
     },
     "execution_count": 7,
     "metadata": {},
     "output_type": "execute_result"
    }
   ],
   "source": [
    "images"
   ]
  },
  {
   "cell_type": "code",
   "execution_count": 8,
   "metadata": {},
   "outputs": [],
   "source": [
    "for fname in images:\n",
    "    img = cv2.imread(fname)\n",
    "    gray = cv2.cvtColor(img,cv2.COLOR_BGR2GRAY)\n",
    "\n",
    "    # Find the chess board corners\n",
    "    status, inner_corners = cv2.findChessboardCorners(gray, (7,6),None)\n",
    "\n",
    "    # If found, add object points, image points (after refining them)\n",
    "    if status == True:\n",
    "        ObjectPoints.append(objp)\n",
    "\n",
    "        refined_corners = cv2.cornerSubPix(gray,inner_corners ,(13,13),(-1,-1),stopping_criteria )\n",
    "        ImagePoints.append(refined_corners)\n",
    "\n",
    "        # Draw and display the corners\n",
    "        img = cv2.drawChessboardCorners(img, (7,6), refined_corners,status)\n",
    "        #cv2.imshow('img',img)\n",
    "        #cv2.waitKey(500)\n",
    "        cv2.imwrite('Image wth chess board pattern.jpg',img )\n"
   ]
  },
  {
   "cell_type": "code",
   "execution_count": 9,
   "metadata": {},
   "outputs": [],
   "source": [
    "cv2.destroyAllWindows()\n"
   ]
  },
  {
   "cell_type": "code",
   "execution_count": 10,
   "metadata": {},
   "outputs": [],
   "source": [
    "caliberation_error, camera_matrix, distortion_coff, rvecs, tvecs = cv2.calibrateCamera(ObjectPoints, ImagePoints, gray.shape[::-1],None,None)\n",
    "\n",
    "# select a sample image & display it \n",
    "sample_image = cv2.imread(basefolder+ \"left12.jpg\")\n",
    "cv2.imshow('Sample Image',sample_image )\n",
    "cv2.imwrite('Sample Image.jpg',sample_image )\n",
    "h,  w = sample_image.shape[:2]\n",
    "newcameramtx, roi=cv2.getOptimalNewCameraMatrix(camera_matrix,distortion_coff,(w,h),0.8,(w,h))\n"
   ]
  },
  {
   "cell_type": "code",
   "execution_count": 11,
   "metadata": {},
   "outputs": [
    {
     "data": {
      "text/plain": [
       "True"
      ]
     },
     "execution_count": 11,
     "metadata": {},
     "output_type": "execute_result"
    }
   ],
   "source": [
    "# undistort\n",
    "undistorted_sample_image= cv2.undistort(sample_image, camera_matrix, distortion_coff, None, newcameramtx)\n",
    "cv2.imshow('Undistorted Image',undistorted_sample_image )\n",
    "cv2.imwrite('Undistorted Image.jpg',undistorted_sample_image )\n"
   ]
  },
  {
   "cell_type": "code",
   "execution_count": 12,
   "metadata": {},
   "outputs": [
    {
     "data": {
      "text/plain": [
       "True"
      ]
     },
     "execution_count": 12,
     "metadata": {},
     "output_type": "execute_result"
    }
   ],
   "source": [
    "# crop the image\n",
    "x,y,w,h = roi\n",
    "clipped_sample_image = undistorted_sample_image[y:y+h, x:x+w]\n",
    "cv2.imshow('Clipped Image',clipped_sample_image )\n",
    "cv2.imwrite('Clipped Image.jpg',clipped_sample_image )\n",
    "\n"
   ]
  },
  {
   "cell_type": "code",
   "execution_count": 13,
   "metadata": {},
   "outputs": [],
   "source": [
    "# undistort it using another method \n",
    "mapx,mapy = cv2.initUndistortRectifyMap(camera_matrix,distortion_coff,None,newcameramtx,(w,h),5)\n",
    "undistorted_new = cv2.remap(clipped_sample_image,mapx,mapy,cv2.INTER_LINEAR)\n"
   ]
  },
  {
   "cell_type": "code",
   "execution_count": 14,
   "metadata": {},
   "outputs": [
    {
     "data": {
      "text/plain": [
       "True"
      ]
     },
     "execution_count": 14,
     "metadata": {},
     "output_type": "execute_result"
    }
   ],
   "source": [
    "# crop the image\n",
    "x,y,w,h = roi\n",
    "undistorted_new = undistorted_new[y:y+h, x:x+w]\n",
    "cv2.imshow('Second undistorted Image',undistorted_new  )\n",
    "cv2.imwrite('Second undistorted Image.jpg',undistorted_new  )\n"
   ]
  },
  {
   "cell_type": "code",
   "execution_count": 15,
   "metadata": {},
   "outputs": [],
   "source": [
    "cv2.destroyAllWindows()\n"
   ]
  },
  {
   "cell_type": "code",
   "execution_count": 16,
   "metadata": {},
   "outputs": [],
   "source": [
    "from cv2 import aruco"
   ]
  },
  {
   "cell_type": "code",
   "execution_count": 17,
   "metadata": {},
   "outputs": [],
   "source": [
    "arucoParams = aruco.DetectorParameters_create()\n",
    "aruco_dict = aruco.Dictionary_get(aruco.DICT_6X6_250)\n"
   ]
  },
  {
   "cell_type": "code",
   "execution_count": 18,
   "metadata": {},
   "outputs": [],
   "source": [
    "markerLength = 1\n",
    "markerSeparation = 0.5\n",
    "targetwidth = 4\n",
    "targetheight = 4\n"
   ]
  },
  {
   "cell_type": "code",
   "execution_count": 19,
   "metadata": {},
   "outputs": [
    {
     "data": {
      "image/png": "[encoded data removed]",
      "text/plain": [
       "<Figure size 432x288 with 1 Axes>"
      ]
     },
     "metadata": {
      "needs_background": "light"
     },
     "output_type": "display_data"
    }
   ],
   "source": [
    "board = aruco.CharucoBoard_create(targetwidth, targetheight, markerLength, markerSeparation, aruco_dict)\n",
    "imboard = board.draw((1000, 1000))\n",
    "handle = plt.imshow(imboard,cmap='gray')\n",
    "plt.axis('off')\n",
    "plt.savefig(basefolder + \"/charuco_markers.png\")\n"
   ]
  },
  {
   "cell_type": "code",
   "execution_count": null,
   "metadata": {},
   "outputs": [],
   "source": [
    "camera = cv2.VideoCapture(0)\n"
   ]
  },
  {
   "cell_type": "code",
   "execution_count": null,
   "metadata": {},
   "outputs": [],
   "source": [
    "while True:\n",
    "    status, img_charuco = camera.read()\n",
    "    im_gray = cv2.cvtColor(img_charuco ,cv2.COLOR_RGB2GRAY)\n",
    "    h,  w = im_gray.shape[:2]\n",
    "    dst = cv2.undistort(im_gray, camera_matrix, distortion_coff, None, newcameramtx)\n",
    "    corners, ids, rejectedImgPoints = aruco.detectMarkers(dst, aruco_dict, parameters=arucoParams)\n",
    "    cv2.imshow(\"original\", im_gray)\n",
    "    \n",
    "    if not corners :\n",
    "        print (\"pass\")\n",
    "    else:\n",
    "        aruco.refineDetectedMarkers(im_gray, board, corners, ids, rejectedImgPoints)\n",
    "        charucoretval, charucoCorners, charucoIds = aruco.interpolateCornersCharuco(corners, ids, im_gray, board)\n",
    "        image_with_charuco_board = aruco.drawDetectedCornersCharuco(img_charuco, charucoCorners, charucoIds, (0,255,0))\n",
    "        status , rvec, tvec = aruco.estimatePoseCharucoBoard(charucoCorners, charucoIds, board, camera_matrix, distortion_coff)         \n",
    "        if status != 0:\n",
    "            img_aruco = aruco.drawAxis(image_with_charuco_board, newcameramtx, distortion_coff, rvec, tvec,20)\n",
    "        else:\n",
    "            print('no markers detected')\n",
    "            \n",
    "    if cv2.waitKey(0) & 0xFF == ord('q'):\n",
    "        cv2.imwrite(base_folder + 'detected charuco pattern.jpg', img_charuco)\n",
    "        break;\n",
    "        \n",
    "    cv2.imshow(\"World co-ordinate frame axes\", img_charuco)\n"
   ]
  },
  {
   "cell_type": "code",
   "execution_count": null,
   "metadata": {},
   "outputs": [],
   "source": [
    "camera.release()\n",
    "cv2.destroyAllWindows()"
   ]
  }
 ],
 "metadata": {
  "kernelspec": {
   "display_name": "Python 3",
   "language": "python",
   "name": "python3"
  },
  "language_info": {
   "codemirror_mode": {
    "name": "ipython",
    "version": 3
   },
   "file_extension": ".py",
   "mimetype": "text/x-python",
   "name": "python",
   "nbconvert_exporter": "python",
   "pygments_lexer": "ipython3",
   "version": "3.6.10"
  }
 },
 "nbformat": 4,
 "nbformat_minor": 4
}
