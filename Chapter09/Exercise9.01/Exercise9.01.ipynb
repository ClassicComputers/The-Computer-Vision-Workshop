{
 "cells": [
  {
   "cell_type": "code",
   "execution_count": 1,
   "metadata": {},
   "outputs": [],
   "source": [
    "import numpy as np\n",
    "import cv2\n",
    "import glob\n",
    "import os \n"
   ]
  },
  {
   "cell_type": "code",
   "execution_count": 2,
   "metadata": {},
   "outputs": [],
   "source": [
    "stopping_criteria = (cv2.TERM_CRITERIA_EPS + cv2.TERM_CRITERIA_MAX_ITER, 45, 0.001)\n",
    "\n",
    "# prepare object points, like (0,0,0), (1,0,0), (2,0,0) ....,(6,5,0)\n",
    "objp = np.zeros((6*7,3), np.float32)\n",
    "objp[:,:2] = np.mgrid[0:7,0:6].T.reshape(-1,2)\n",
    "\n",
    "# Arrays to store object points and image points from all the images.\n",
    "ObjectPoints = [] # 3d point in real world space\n",
    "ImagePoints = [] # 2d points in image plane.\n",
    "\n"
   ]
  },
  {
   "cell_type": "code",
   "execution_count": 3,
   "metadata": {},
   "outputs": [],
   "source": [
    "basefolder= r'C:\\Users\\mbhattac\\OneDrive - HERE Global B.V-\\coding\\opencv_book\\Chapter09\\Section1\\images\\\\'\n",
    "\n",
    "os.chdir(basefolder)\n"
   ]
  },
  {
   "cell_type": "code",
   "execution_count": 4,
   "metadata": {},
   "outputs": [],
   "source": [
    "images = glob.glob(basefolder + \"*.jpg\")\n"
   ]
  },
  {
   "cell_type": "code",
   "execution_count": 5,
   "metadata": {},
   "outputs": [
    {
     "data": {
      "text/plain": [
       "['C:\\\\Users\\\\mbhattac\\\\OneDrive - HERE Global B.V-\\\\coding\\\\opencv_book\\\\Chapter09\\\\Section1\\\\images\\\\Clipped Image.jpg',\n",
       " 'C:\\\\Users\\\\mbhattac\\\\OneDrive - HERE Global B.V-\\\\coding\\\\opencv_book\\\\Chapter09\\\\Section1\\\\images\\\\Image wth chess board pattern.jpg',\n",
       " 'C:\\\\Users\\\\mbhattac\\\\OneDrive - HERE Global B.V-\\\\coding\\\\opencv_book\\\\Chapter09\\\\Section1\\\\images\\\\left01.jpg',\n",
       " 'C:\\\\Users\\\\mbhattac\\\\OneDrive - HERE Global B.V-\\\\coding\\\\opencv_book\\\\Chapter09\\\\Section1\\\\images\\\\left02.jpg',\n",
       " 'C:\\\\Users\\\\mbhattac\\\\OneDrive - HERE Global B.V-\\\\coding\\\\opencv_book\\\\Chapter09\\\\Section1\\\\images\\\\left03.jpg',\n",
       " 'C:\\\\Users\\\\mbhattac\\\\OneDrive - HERE Global B.V-\\\\coding\\\\opencv_book\\\\Chapter09\\\\Section1\\\\images\\\\left04.jpg',\n",
       " 'C:\\\\Users\\\\mbhattac\\\\OneDrive - HERE Global B.V-\\\\coding\\\\opencv_book\\\\Chapter09\\\\Section1\\\\images\\\\left05.jpg',\n",
       " 'C:\\\\Users\\\\mbhattac\\\\OneDrive - HERE Global B.V-\\\\coding\\\\opencv_book\\\\Chapter09\\\\Section1\\\\images\\\\left06.jpg',\n",
       " 'C:\\\\Users\\\\mbhattac\\\\OneDrive - HERE Global B.V-\\\\coding\\\\opencv_book\\\\Chapter09\\\\Section1\\\\images\\\\left07.jpg',\n",
       " 'C:\\\\Users\\\\mbhattac\\\\OneDrive - HERE Global B.V-\\\\coding\\\\opencv_book\\\\Chapter09\\\\Section1\\\\images\\\\left08.jpg',\n",
       " 'C:\\\\Users\\\\mbhattac\\\\OneDrive - HERE Global B.V-\\\\coding\\\\opencv_book\\\\Chapter09\\\\Section1\\\\images\\\\left09.jpg',\n",
       " 'C:\\\\Users\\\\mbhattac\\\\OneDrive - HERE Global B.V-\\\\coding\\\\opencv_book\\\\Chapter09\\\\Section1\\\\images\\\\left11.jpg',\n",
       " 'C:\\\\Users\\\\mbhattac\\\\OneDrive - HERE Global B.V-\\\\coding\\\\opencv_book\\\\Chapter09\\\\Section1\\\\images\\\\left12.jpg',\n",
       " 'C:\\\\Users\\\\mbhattac\\\\OneDrive - HERE Global B.V-\\\\coding\\\\opencv_book\\\\Chapter09\\\\Section1\\\\images\\\\left13.jpg',\n",
       " 'C:\\\\Users\\\\mbhattac\\\\OneDrive - HERE Global B.V-\\\\coding\\\\opencv_book\\\\Chapter09\\\\Section1\\\\images\\\\left14.jpg',\n",
       " 'C:\\\\Users\\\\mbhattac\\\\OneDrive - HERE Global B.V-\\\\coding\\\\opencv_book\\\\Chapter09\\\\Section1\\\\images\\\\right01.jpg',\n",
       " 'C:\\\\Users\\\\mbhattac\\\\OneDrive - HERE Global B.V-\\\\coding\\\\opencv_book\\\\Chapter09\\\\Section1\\\\images\\\\right02.jpg',\n",
       " 'C:\\\\Users\\\\mbhattac\\\\OneDrive - HERE Global B.V-\\\\coding\\\\opencv_book\\\\Chapter09\\\\Section1\\\\images\\\\right03.jpg',\n",
       " 'C:\\\\Users\\\\mbhattac\\\\OneDrive - HERE Global B.V-\\\\coding\\\\opencv_book\\\\Chapter09\\\\Section1\\\\images\\\\right04.jpg',\n",
       " 'C:\\\\Users\\\\mbhattac\\\\OneDrive - HERE Global B.V-\\\\coding\\\\opencv_book\\\\Chapter09\\\\Section1\\\\images\\\\right05.jpg',\n",
       " 'C:\\\\Users\\\\mbhattac\\\\OneDrive - HERE Global B.V-\\\\coding\\\\opencv_book\\\\Chapter09\\\\Section1\\\\images\\\\right06.jpg',\n",
       " 'C:\\\\Users\\\\mbhattac\\\\OneDrive - HERE Global B.V-\\\\coding\\\\opencv_book\\\\Chapter09\\\\Section1\\\\images\\\\right07.jpg',\n",
       " 'C:\\\\Users\\\\mbhattac\\\\OneDrive - HERE Global B.V-\\\\coding\\\\opencv_book\\\\Chapter09\\\\Section1\\\\images\\\\right08.jpg',\n",
       " 'C:\\\\Users\\\\mbhattac\\\\OneDrive - HERE Global B.V-\\\\coding\\\\opencv_book\\\\Chapter09\\\\Section1\\\\images\\\\right09.jpg',\n",
       " 'C:\\\\Users\\\\mbhattac\\\\OneDrive - HERE Global B.V-\\\\coding\\\\opencv_book\\\\Chapter09\\\\Section1\\\\images\\\\right11.jpg',\n",
       " 'C:\\\\Users\\\\mbhattac\\\\OneDrive - HERE Global B.V-\\\\coding\\\\opencv_book\\\\Chapter09\\\\Section1\\\\images\\\\right12.jpg',\n",
       " 'C:\\\\Users\\\\mbhattac\\\\OneDrive - HERE Global B.V-\\\\coding\\\\opencv_book\\\\Chapter09\\\\Section1\\\\images\\\\right13.jpg',\n",
       " 'C:\\\\Users\\\\mbhattac\\\\OneDrive - HERE Global B.V-\\\\coding\\\\opencv_book\\\\Chapter09\\\\Section1\\\\images\\\\right14.jpg']"
      ]
     },
     "execution_count": 5,
     "metadata": {},
     "output_type": "execute_result"
    }
   ],
   "source": [
    "images"
   ]
  },
  {
   "cell_type": "code",
   "execution_count": 6,
   "metadata": {},
   "outputs": [],
   "source": [
    "for fname in images:\n",
    "    img = cv2.imread(fname)\n",
    "    gray = cv2.cvtColor(img,cv2.COLOR_BGR2GRAY)\n",
    "\n",
    "    # Find the chess board corners\n",
    "    status, inner_corners = cv2.findChessboardCorners(gray, (7,6),None)\n",
    "\n",
    "    # If found, add object points, image points (after refining them)\n",
    "    if status == True:\n",
    "        ObjectPoints.append(objp)\n",
    "\n",
    "        refined_corners = cv2.cornerSubPix(gray,inner_corners ,(13,13),(-1,-1),stopping_criteria )\n",
    "        ImagePoints.append(refined_corners)\n",
    "\n",
    "        # Draw and display the corners\n",
    "        img = cv2.drawChessboardCorners(img, (7,6), refined_corners,status)\n",
    "        #cv2.imshow('img',img)\n",
    "        #cv2.waitKey(500)\n",
    "        cv2.imwrite('Image wth chess board pattern.jpg',img )\n"
   ]
  },
  {
   "cell_type": "code",
   "execution_count": 7,
   "metadata": {},
   "outputs": [],
   "source": [
    "cv2.destroyAllWindows()\n"
   ]
  },
  {
   "cell_type": "code",
   "execution_count": 8,
   "metadata": {},
   "outputs": [],
   "source": [
    "caliberation_error, camera_matrix, distortion_coff, rvecs, tvecs = cv2.calibrateCamera(ObjectPoints, ImagePoints, gray.shape[::-1],None,None)\n",
    "\n",
    "# select a sample image & display it \n",
    "sample_image = cv2.imread(basefolder+ \"left12.jpg\")\n",
    "cv2.imshow('Sample Image',sample_image )\n",
    "cv2.imwrite('Sample Image.jpg',sample_image )\n",
    "h,  w = sample_image.shape[:2]\n",
    "newcameramtx, roi=cv2.getOptimalNewCameraMatrix(camera_matrix,distortion_coff,(w,h),0.8,(w,h))\n"
   ]
  },
  {
   "cell_type": "code",
   "execution_count": 9,
   "metadata": {},
   "outputs": [
    {
     "data": {
      "text/plain": [
       "True"
      ]
     },
     "execution_count": 9,
     "metadata": {},
     "output_type": "execute_result"
    }
   ],
   "source": [
    "# undistort\n",
    "undistorted_sample_image= cv2.undistort(sample_image, camera_matrix, distortion_coff, None, newcameramtx)\n",
    "cv2.imshow('Undistorted Image',undistorted_sample_image )\n",
    "cv2.imwrite('Undistorted Image.jpg',undistorted_sample_image )\n"
   ]
  },
  {
   "cell_type": "code",
   "execution_count": 10,
   "metadata": {},
   "outputs": [
    {
     "data": {
      "text/plain": [
       "True"
      ]
     },
     "execution_count": 10,
     "metadata": {},
     "output_type": "execute_result"
    }
   ],
   "source": [
    "# crop the image\n",
    "x,y,w,h = roi\n",
    "clipped_sample_image = undistorted_sample_image[y:y+h, x:x+w]\n",
    "cv2.imshow('Clipped Image',clipped_sample_image )\n",
    "cv2.imwrite('Clipped Image.jpg',clipped_sample_image )\n",
    "\n"
   ]
  },
  {
   "cell_type": "code",
   "execution_count": 11,
   "metadata": {},
   "outputs": [],
   "source": [
    "# undistort it using another method \n",
    "mapx,mapy = cv2.initUndistortRectifyMap(camera_matrix,distortion_coff,None,newcameramtx,(w,h),5)\n",
    "undistorted_new = cv2.remap(clipped_sample_image,mapx,mapy,cv2.INTER_LINEAR)\n"
   ]
  },
  {
   "cell_type": "code",
   "execution_count": 12,
   "metadata": {},
   "outputs": [
    {
     "data": {
      "text/plain": [
       "True"
      ]
     },
     "execution_count": 12,
     "metadata": {},
     "output_type": "execute_result"
    }
   ],
   "source": [
    "# crop the image\n",
    "x,y,w,h = roi\n",
    "undistorted_new = undistorted_new[y:y+h, x:x+w]\n",
    "cv2.imshow('Second undistorted Image',undistorted_new  )\n",
    "cv2.imwrite('Second undistorted Image.jpg',undistorted_new  )\n"
   ]
  },
  {
   "cell_type": "code",
   "execution_count": 13,
   "metadata": {},
   "outputs": [],
   "source": [
    "cv2.destroyAllWindows()\n"
   ]
  },
  {
   "cell_type": "code",
   "execution_count": null,
   "metadata": {},
   "outputs": [],
   "source": []
  }
 ],
 "metadata": {
  "kernelspec": {
   "display_name": "Python 3",
   "language": "python",
   "name": "python3"
  },
  "language_info": {
   "codemirror_mode": {
    "name": "ipython",
    "version": 3
   },
   "file_extension": ".py",
   "mimetype": "text/x-python",
   "name": "python",
   "nbconvert_exporter": "python",
   "pygments_lexer": "ipython3",
   "version": "3.6.10"
  }
 },
 "nbformat": 4,
 "nbformat_minor": 4
}
