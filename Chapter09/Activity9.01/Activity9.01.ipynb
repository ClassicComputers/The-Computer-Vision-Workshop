{
 "cells": [
  {
   "cell_type": "code",
   "execution_count": 1,
   "metadata": {},
   "outputs": [],
   "source": [
    "import cv2\n",
    "import numpy as np\n",
    "import glob\n"
   ]
  },
  {
   "cell_type": "code",
   "execution_count": 2,
   "metadata": {},
   "outputs": [],
   "source": [
    "stopping_criteria = (cv2.TERM_CRITERIA_EPS + cv2.TERM_CRITERIA_MAX_ITER, 30, 0.001)\n"
   ]
  },
  {
   "cell_type": "code",
   "execution_count": 3,
   "metadata": {},
   "outputs": [],
   "source": [
    "# Read the input as a gray scale image\n",
    "testgridize=1400\n",
    "itemsperrow=11\n",
    "itemspercolumn=8\n",
    "radius=10\n",
    "distancebetweencircles=36\n",
    "color = (255,255,255)\n",
    "paddingx=300\n",
    "paddingy=300\n",
    "scalefactor=2\n",
    "base_folder = r'C:\\Users\\mbhattac\\OneDrive - HERE Global B.V-\\coding\\opencv_book\\Chapter09\\Activity9.01\\\\'\n",
    "image_model = np.zeros((testgridize, testgridize, 3), dtype = \"uint8\") \n",
    "objp = np.zeros((itemsperrow*itemspercolumn, 3), np.float32)\n",
    "currpos=0\n",
    "delta = int(testgridize/itemsperrow)\n"
   ]
  },
  {
   "cell_type": "code",
   "execution_count": 4,
   "metadata": {},
   "outputs": [],
   "source": [
    "for _x in range(itemsperrow):\n",
    "    for _y in range(itemspercolumn):\n",
    "        #print(_x*distancebetweencircles,_y*distancebetweencircles)\n",
    "        if _x % 2  == 1:\n",
    "            shiftx=int(distancebetweencircles/2)\n",
    "        else:\n",
    "            shiftx=0\n",
    "        image_model = cv2.circle(image_model, (paddingx+ scalefactor*_x*distancebetweencircles,scalefactor*shiftx + paddingy+scalefactor*_y*distancebetweencircles), scalefactor*radius, color, -1)\n",
    "        objp[currpos] = (_x*distancebetweencircles,shiftx + _y*distancebetweencircles*2,0)\n",
    "        currpos+=1 \n"
   ]
  },
  {
   "cell_type": "code",
   "execution_count": 5,
   "metadata": {},
   "outputs": [
    {
     "data": {
      "text/plain": [
       "True"
      ]
     },
     "execution_count": 5,
     "metadata": {},
     "output_type": "execute_result"
    }
   ],
   "source": [
    "image_model =  cv2.cvtColor(image_model, cv2.COLOR_BGR2GRAY)\n",
    "image_model = cv2.bitwise_not(image_model)\n",
    "cv2.imshow('Generated grid',image_model)         \n",
    "cv2.imwrite(base_folder + 'Generated grid.jpg', image_model)"
   ]
  },
  {
   "cell_type": "code",
   "execution_count": 6,
   "metadata": {},
   "outputs": [],
   "source": [
    "objp  = np.asarray(objp)\n"
   ]
  },
  {
   "cell_type": "code",
   "execution_count": 7,
   "metadata": {},
   "outputs": [],
   "source": [
    "parameters = cv2.SimpleBlobDetector_Params()\n",
    "\n",
    "# Change thresholds\n",
    "parameters.minThreshold = 10\n",
    "parameters.maxThreshold = 200\n",
    "\n",
    "\n",
    "# Filter by Area.\n",
    "parameters.filterByArea = True\n",
    "parameters.minArea = 1500\n",
    "\n",
    "# Filter by Circularity\n",
    "parameters.filterByCircularity = True\n",
    "parameters.minCircularity = 0.1\n",
    "\n",
    "# Filter by Convexityss\n",
    "parameters.filterByConvexity = True\n",
    "parameters .minConvexity = 0.87\n",
    "    \n",
    "# Filter by Inertia\n",
    "parameters.filterByInertia = True\n",
    "parameters.minInertiaRatio = 0.01\n",
    "\n",
    "detector = cv2.SimpleBlobDetector_create(parameters)\n",
    "\n"
   ]
  },
  {
   "cell_type": "code",
   "execution_count": 8,
   "metadata": {},
   "outputs": [],
   "source": [
    "objpoints = [] # 3d point in real world space\n",
    "imgpoints = [] # 2d points in image plane."
   ]
  },
  {
   "cell_type": "code",
   "execution_count": 9,
   "metadata": {},
   "outputs": [],
   "source": [
    "images = glob.glob(base_folder + 'images_11_8\\\\'  + \"*.jpg\")"
   ]
  },
  {
   "cell_type": "code",
   "execution_count": 10,
   "metadata": {},
   "outputs": [
    {
     "data": {
      "text/plain": [
       "['C:\\\\Users\\\\mbhattac\\\\OneDrive - HERE Global B.V-\\\\coding\\\\opencv_book\\\\Chapter09\\\\Activity9.01\\\\\\\\images_11_8\\\\IMG20200610131638.jpg',\n",
       " 'C:\\\\Users\\\\mbhattac\\\\OneDrive - HERE Global B.V-\\\\coding\\\\opencv_book\\\\Chapter09\\\\Activity9.01\\\\\\\\images_11_8\\\\IMG20200610131642.jpg',\n",
       " 'C:\\\\Users\\\\mbhattac\\\\OneDrive - HERE Global B.V-\\\\coding\\\\opencv_book\\\\Chapter09\\\\Activity9.01\\\\\\\\images_11_8\\\\IMG20200610131645.jpg',\n",
       " 'C:\\\\Users\\\\mbhattac\\\\OneDrive - HERE Global B.V-\\\\coding\\\\opencv_book\\\\Chapter09\\\\Activity9.01\\\\\\\\images_11_8\\\\IMG20200610131649.jpg',\n",
       " 'C:\\\\Users\\\\mbhattac\\\\OneDrive - HERE Global B.V-\\\\coding\\\\opencv_book\\\\Chapter09\\\\Activity9.01\\\\\\\\images_11_8\\\\IMG20200610131653.jpg']"
      ]
     },
     "execution_count": 10,
     "metadata": {},
     "output_type": "execute_result"
    }
   ],
   "source": [
    "images"
   ]
  },
  {
   "cell_type": "code",
   "execution_count": 11,
   "metadata": {},
   "outputs": [
    {
     "name": "stdout",
     "output_type": "stream",
     "text": [
      "found  88  items in  C:\\Users\\mbhattac\\OneDrive - HERE Global B.V-\\coding\\opencv_book\\Chapter09\\Activity9.01\\\\images_11_8\\IMG20200610131638.jpg\n",
      "found  88  items in  C:\\Users\\mbhattac\\OneDrive - HERE Global B.V-\\coding\\opencv_book\\Chapter09\\Activity9.01\\\\images_11_8\\IMG20200610131642.jpg\n",
      "found  88  items in  C:\\Users\\mbhattac\\OneDrive - HERE Global B.V-\\coding\\opencv_book\\Chapter09\\Activity9.01\\\\images_11_8\\IMG20200610131645.jpg\n",
      "found  88  items in  C:\\Users\\mbhattac\\OneDrive - HERE Global B.V-\\coding\\opencv_book\\Chapter09\\Activity9.01\\\\images_11_8\\IMG20200610131649.jpg\n",
      "found  88  items in  C:\\Users\\mbhattac\\OneDrive - HERE Global B.V-\\coding\\opencv_book\\Chapter09\\Activity9.01\\\\images_11_8\\IMG20200610131653.jpg\n"
     ]
    }
   ],
   "source": [
    "found = 0\n",
    "for image in images:\n",
    "     rotated_image = cv2.imread(image, cv2.COLOR_BGR2GRAY)\n",
    "     rotated_image   = cv2.resize(rotated_image , image_model.shape, interpolation = cv2.INTER_AREA)\n",
    "     keypoints = detector.detect(rotated_image)\n",
    "     image_with_keypoints = cv2.drawKeypoints(rotated_image, keypoints, np.array([]), (0,0,255), cv2.DRAW_MATCHES_FLAGS_DRAW_RICH_KEYPOINTS)\n",
    "     image_with_keypoints_gray = cv2.cvtColor(image_with_keypoints, cv2.COLOR_BGR2GRAY)\n",
    "     status, corners = cv2.findCirclesGrid(image_with_keypoints, (itemspercolumn,itemsperrow), None, flags = cv2.CALIB_CB_ASYMMETRIC_GRID)\n",
    "     # Show blobs\n",
    "     cv2.imshow(\"Keypoints\", image_with_keypoints)\n",
    "     cv2.waitKey(0)\n",
    "     if status == True:\n",
    "         print('found ',len(keypoints),' items in ',image)\n",
    "         objpoints.append(objp)  # Certainly, every loop objp is the same, in 3D.\n",
    "         refined_corners = cv2.cornerSubPix(image_with_keypoints_gray, corners, (itemsperrow,itemsperrow), (-1,-1), stopping_criteria )    # Refines the corner locations.\n",
    "         imgpoints.append(refined_corners)\n",
    "         # Draw and display the corners.\n",
    "         im_with_keypoints = cv2.drawChessboardCorners(rotated_image, (itemspercolumn,itemsperrow), refined_corners, status)\n",
    "         cv2.imshow('image', im_with_keypoints)\n",
    "         cv2.waitKey(0)\n",
    "         found += 1        "
   ]
  },
  {
   "cell_type": "code",
   "execution_count": 30,
   "metadata": {},
   "outputs": [],
   "source": [
    "cv2.destroyAllWindows()"
   ]
  },
  {
   "cell_type": "code",
   "execution_count": 13,
   "metadata": {},
   "outputs": [],
   "source": [
    "caliberation_error, camera_matrix, distortion_coff, rvecs, tvecs = cv2.calibrateCamera(objpoints, imgpoints, image_model.shape[::-1],None,None)\n"
   ]
  },
  {
   "cell_type": "code",
   "execution_count": 17,
   "metadata": {},
   "outputs": [],
   "source": [
    "captured_image = cv2.imread(base_folder + \"sample.jpg\", cv2.IMREAD_GRAYSCALE)"
   ]
  },
  {
   "cell_type": "code",
   "execution_count": 18,
   "metadata": {},
   "outputs": [],
   "source": [
    "captured_image  = cv2.resize(captured_image, image_model.shape, interpolation = cv2.INTER_AREA)\n"
   ]
  },
  {
   "cell_type": "code",
   "execution_count": 19,
   "metadata": {},
   "outputs": [],
   "source": [
    "cv2.imshow('Original Image', captured_image)"
   ]
  },
  {
   "cell_type": "code",
   "execution_count": 20,
   "metadata": {},
   "outputs": [],
   "source": [
    "h,  w = captured_image.shape[:2]\n"
   ]
  },
  {
   "cell_type": "code",
   "execution_count": 21,
   "metadata": {},
   "outputs": [],
   "source": [
    "newcameramtx, roi=cv2.getOptimalNewCameraMatrix(camera_matrix,distortion_coff,(w,h),1,(w,h))\n"
   ]
  },
  {
   "cell_type": "code",
   "execution_count": 22,
   "metadata": {},
   "outputs": [],
   "source": [
    "undistorted_image =  cv2.undistort(captured_image, camera_matrix, distortion_coff, None, newcameramtx)\n"
   ]
  },
  {
   "cell_type": "code",
   "execution_count": 23,
   "metadata": {},
   "outputs": [
    {
     "data": {
      "text/plain": [
       "True"
      ]
     },
     "execution_count": 23,
     "metadata": {},
     "output_type": "execute_result"
    }
   ],
   "source": [
    "cv2.imshow('Undistorted Image', undistorted_image)\n",
    "cv2.imwrite(base_folder + 'Undistorted Image.jpg', undistorted_image)"
   ]
  },
  {
   "cell_type": "code",
   "execution_count": 24,
   "metadata": {},
   "outputs": [],
   "source": [
    "x,y,w,h = roi\n"
   ]
  },
  {
   "cell_type": "code",
   "execution_count": 25,
   "metadata": {},
   "outputs": [],
   "source": [
    "cropped_image = undistorted_image[y:y+h, x:x+w]\n"
   ]
  },
  {
   "cell_type": "code",
   "execution_count": 26,
   "metadata": {},
   "outputs": [
    {
     "data": {
      "text/plain": [
       "True"
      ]
     },
     "execution_count": 26,
     "metadata": {},
     "output_type": "execute_result"
    }
   ],
   "source": [
    "cv2.imshow('cropped Image', cropped_image)\n",
    "cv2.imwrite(base_folder + 'cropped Image.jpg', cropped_image)"
   ]
  },
  {
   "cell_type": "code",
   "execution_count": 27,
   "metadata": {},
   "outputs": [],
   "source": [
    "mapx,mapy = cv2.initUndistortRectifyMap(camera_matrix,distortion_coff,None,newcameramtx,(w,h),5)\n"
   ]
  },
  {
   "cell_type": "code",
   "execution_count": 28,
   "metadata": {},
   "outputs": [],
   "source": [
    "cropped_image = cv2.remap(captured_image,mapx,mapy,cv2.INTER_LINEAR)\n"
   ]
  },
  {
   "cell_type": "code",
   "execution_count": 29,
   "metadata": {},
   "outputs": [
    {
     "data": {
      "text/plain": [
       "True"
      ]
     },
     "execution_count": 29,
     "metadata": {},
     "output_type": "execute_result"
    }
   ],
   "source": [
    "cv2.imshow('cropped/ processed Image', cropped_image) \n",
    "cv2.imwrite(base_folder + 'processed Image.jpg', cropped_image)"
   ]
  },
  {
   "cell_type": "code",
   "execution_count": null,
   "metadata": {},
   "outputs": [],
   "source": []
  },
  {
   "cell_type": "code",
   "execution_count": null,
   "metadata": {},
   "outputs": [],
   "source": []
  }
 ],
 "metadata": {
  "kernelspec": {
   "display_name": "Python 3",
   "language": "python",
   "name": "python3"
  },
  "language_info": {
   "codemirror_mode": {
    "name": "ipython",
    "version": 3
   },
   "file_extension": ".py",
   "mimetype": "text/x-python",
   "name": "python",
   "nbconvert_exporter": "python",
   "pygments_lexer": "ipython3",
   "version": "3.6.10"
  }
 },
 "nbformat": 4,
 "nbformat_minor": 4
}
