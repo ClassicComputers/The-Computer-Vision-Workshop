{
 "cells": [
  {
   "cell_type": "code",
   "execution_count": null,
   "metadata": {},
   "outputs": [],
   "source": [
    "import numpy as np\n",
    "import cv2\n",
    "from matplotlib import pyplot as plt"
   ]
  },
  {
   "cell_type": "code",
   "execution_count": null,
   "metadata": {},
   "outputs": [],
   "source": [
    "basefolder = r'C:\\Users\\opencv_book\\stereo\\\\'"
   ]
  },
  {
   "cell_type": "code",
   "execution_count": null,
   "metadata": {},
   "outputs": [],
   "source": [
    "imgL = cv2.imread(basefolder  + 'IMG20200421082417.jpg')\n",
    "imgR = cv2.imread(basefolder  + 'IMG20200421082426.jpg')"
   ]
  },
  {
   "cell_type": "code",
   "execution_count": null,
   "metadata": {},
   "outputs": [],
   "source": [
    "imgL = cv2.cvtColor(imgL, cv2.COLOR_BGR2GRAY)\n",
    "imgR = cv2.cvtColor(imgR, cv2.COLOR_BGR2GRAY)"
   ]
  },
  {
   "cell_type": "code",
   "execution_count": null,
   "metadata": {},
   "outputs": [],
   "source": [
    " blockSize = 40"
   ]
  },
  {
   "cell_type": "code",
   "execution_count": null,
   "metadata": {},
   "outputs": [],
   "source": [
    " stereo = cv2.StereoSGBM_create(minDisparity=1,\n",
    "    numDisparities=16,\n",
    "    blockSize=15,\n",
    "    speckleWindowSize = 10,\n",
    "    speckleRange = 32,\n",
    "    disp12MaxDiff = 1,\n",
    "    P1 = 8*3*blockSize**2,\n",
    "    P2 = 32*3*blockSize**2)"
   ]
  },
  {
   "cell_type": "code",
   "execution_count": null,
   "metadata": {},
   "outputs": [],
   "source": [
    " depth = stereo.compute(imgL, imgR)"
   ]
  },
  {
   "cell_type": "code",
   "execution_count": null,
   "metadata": {},
   "outputs": [],
   "source": [
    "depth= cv2.normalize(depth, depth, alpha=0, beta=255, norm_type=cv2.NORM_MINMAX, dtype=cv2.CV_8U)\n",
    "depth=  cv2.resize(depth   , (1000,1000), interpolation = cv2.INTER_AREA)\n",
    "cv2.imshow('disparity', depth)"
   ]
  }
 ],
 "metadata": {
  "kernelspec": {
   "display_name": "Python 3",
   "language": "python",
   "name": "python3"
  },
  "language_info": {
   "codemirror_mode": {
    "name": "ipython",
    "version": 3
   },
   "file_extension": ".py",
   "mimetype": "text/x-python",
   "name": "python",
   "nbconvert_exporter": "python",
   "pygments_lexer": "ipython3",
   "version": "3.6.10"
  }
 },
 "nbformat": 4,
 "nbformat_minor": 4
}
