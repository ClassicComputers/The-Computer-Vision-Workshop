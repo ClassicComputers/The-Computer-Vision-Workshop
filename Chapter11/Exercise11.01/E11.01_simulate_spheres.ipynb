{
 "cells": [
  {
   "cell_type": "code",
   "execution_count": 1,
   "metadata": {},
   "outputs": [],
   "source": [
    "#######################################################################################\n",
    "##\tExercise 11.01 – Generation of synthetic images – calibration spheres\n",
    "#######################################################################################\n",
    "\n",
    "import numpy as np\n",
    "import math\n",
    "import cv2\n",
    "import pathlib"
   ]
  },
  {
   "cell_type": "code",
   "execution_count": 2,
   "metadata": {},
   "outputs": [],
   "source": [
    "dim = 256\n",
    "num = 20\n",
    "output_folder = \"../Data/Chrome_simulated/\""
   ]
  },
  {
   "cell_type": "code",
   "execution_count": 3,
   "metadata": {},
   "outputs": [],
   "source": [
    "output_folder = pathlib.Path(output_folder)\n",
    "output_folder.mkdir(exist_ok=True, parents=True)"
   ]
  },
  {
   "cell_type": "code",
   "execution_count": 4,
   "metadata": {},
   "outputs": [],
   "source": [
    "images = []\n",
    "for _ in range(num):\n",
    "\timages.append(np.zeros((dim, dim, 3), dtype=np.float32))"
   ]
  },
  {
   "cell_type": "code",
   "execution_count": 5,
   "metadata": {},
   "outputs": [],
   "source": [
    "np.random.seed(7)\n",
    "light_vectors = 2 * (np.random.random((3, num)) - 0.5)\n",
    "light_vectors[2, :] += 5\n",
    "light_vectors[2, :] = np.abs(light_vectors[2, :])\n",
    "light_vectors /= np.linalg.norm(light_vectors, axis=0)[np.newaxis, :]"
   ]
  },
  {
   "cell_type": "code",
   "execution_count": 6,
   "metadata": {},
   "outputs": [],
   "source": [
    "for i in range(dim):\n",
    "\tfor j in range(dim):\n",
    "\t\tx = (j - float(dim/2)) / float(dim/2)\n",
    "\t\ty = -(i - float(dim/2)) / float(dim/2)\n",
    "\t\tif x**2 + y**2 > 1:\n",
    "\t\t\tcontinue\n",
    "\t\tz = math.sqrt(1 - x**2 - y**2)\n",
    "\t\tdirection_vector = np.array((x, y, z), dtype=np.float32).reshape((3, 1))\n",
    "\t\tdots = (light_vectors * direction_vector).sum(axis=0).flatten()\n",
    "\t\tfor image, dot in zip(images, dots):\n",
    "\t\t\timage[i, j] = max(0, dot)"
   ]
  },
  {
   "cell_type": "code",
   "execution_count": 7,
   "metadata": {},
   "outputs": [],
   "source": [
    "for i, image in enumerate(images):\n",
    "\timage = np.array(image*255, dtype=np.uint8)\n",
    "\tname = 'chrome_sphere_%02d.png'% i\n",
    "\tcv2.imwrite(str(output_folder / name ) , image)"
   ]
  },
  {
   "cell_type": "code",
   "execution_count": 8,
   "metadata": {},
   "outputs": [
    {
     "name": "stdout",
     "output_type": "stream",
     "text": [
      "View the outputs at:  ../Data/Chrome_simulated\n"
     ]
    }
   ],
   "source": [
    "sphere_dims = [int(dim/2), int(dim/2), float(dim/2)]\n",
    "np.save(str(output_folder / 'sphere_dimensions.npy'), sphere_dims )\n",
    "np.savetxt(str(output_folder / 'sphere_dimensions.txt'), sphere_dims)\n",
    "print(\"View the outputs at: \", output_folder)"
   ]
  },
  {
   "cell_type": "code",
   "execution_count": null,
   "metadata": {},
   "outputs": [],
   "source": []
  }
 ],
 "metadata": {
  "kernelspec": {
   "display_name": "Python 3",
   "language": "python",
   "name": "python3"
  },
  "language_info": {
   "codemirror_mode": {
    "name": "ipython",
    "version": 3
   },
   "file_extension": ".py",
   "mimetype": "text/x-python",
   "name": "python",
   "nbconvert_exporter": "python",
   "pygments_lexer": "ipython3",
   "version": "3.6.9"
  }
 },
 "nbformat": 4,
 "nbformat_minor": 4
}
