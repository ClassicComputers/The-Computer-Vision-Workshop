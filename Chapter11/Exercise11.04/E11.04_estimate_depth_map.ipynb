{
 "cells": [
  {
   "cell_type": "code",
   "execution_count": 1,
   "metadata": {},
   "outputs": [],
   "source": [
    "import numpy as np\n",
    "import cv2\n",
    "import pathlib\n",
    "import glob\n",
    "from scipy.sparse.linalg import lsqr\n",
    "import matplotlib.pyplot as plt\n",
    "from matplotlib import cm\n",
    "from scipy.sparse import csr_matrix\n",
    "from mpl_toolkits.mplot3d import Axes3D"
   ]
  },
  {
   "cell_type": "code",
   "execution_count": 2,
   "metadata": {},
   "outputs": [],
   "source": [
    "def matrices_for_linear_equation(alpha, normals, depth_weight, depth, height, width):\n",
    "    \"\"\"\n",
    "    Generate M,b to solve for x in Mx = b\n",
    "    Here the solution will the depth.\n",
    "    \n",
    "    Input:\n",
    "    alpha: alpha channel of dimension [height, width]\n",
    "    normals:\t\tnormal image of shape [height, width, 3]\n",
    "    depth_weight:\tGreater the value, lower will be the importance to depth and vice versa.\n",
    "\t\t\t\t\tA tradeoff parameter between normals and estimated depth. \n",
    "\t\t\t\t\tNormals help in smoothing the depth surface and this effect is controlled by this parameter.\n",
    "\t\t\t\t\t\n",
    "\tdepth:\t\t\tdepth will be stored for every pixel.\n",
    "\t\t\t\t\tShape is [height, width]\n",
    "\theight, width: \tDimensions of normals estimated.\n",
    "    \n",
    "    Output:\n",
    "    Constants for equation of type Mx = b\n",
    "    M:\t\t\t\tCoefficient 1 of the linear equation\n",
    "\t\t\t\t\tIt is a very large sparse matrix\n",
    "\t\n",
    "\tb:\t\t\t\tCoefficient 2 of the linear equation\n",
    "\t\"\"\"\n",
    "\n",
    "    row_indices = []\n",
    "    col_indices = []\n",
    "    data_arr = []\n",
    "    \n",
    "    b = []\n",
    "    if depth_weight == None:\n",
    "        depth_weight = 1\n",
    "\n",
    "    \"\"\"\n",
    "    Goal is to populate M & b for the purpose generating a linear equation:\n",
    "    \n",
    "    M: In matrix M, we populate it only for every non-zero element. \n",
    "\tb: For every M.shape[0] values, we populate b.\n",
    "\t\n",
    "\tOur aim is to formulate the problem as a linear equation,\n",
    "\tMx = b, where \n",
    "\t\t\tM is [m, height]\n",
    "\t\t\tx is [height, width, 3]\n",
    "\t\t\tb is [m, width]\n",
    "    \"\"\"\n",
    "\n",
    "    #Populating row_indices,col_indices,data_arr & b\n",
    "    c = 0\n",
    "    for row_i in range(height):\n",
    "        for col_j in range(width):\n",
    "            k = row_i * width + col_j\n",
    "            #alpha check\n",
    "            if alpha[row_i, col_j] != 0:\n",
    "\t\t\t\t#Ensure input depth is not None.\n",
    "\t\t\t\t#Populate b for depth.\n",
    "                if depth is not None:\n",
    "                    b.append(depth_weight * depth[row_i, col_j])\n",
    "                    row_indices.append(c)\n",
    "                    col_indices.append(k)\n",
    "                    data_arr.append(depth_weight)\n",
    "                    c += 1\n",
    "\n",
    "                if normals is not None:\n",
    "                    if col_j + 1 <= width - 1 and alpha[row_i, col_j + 1] != 0:\n",
    "                        # x-axis normals\n",
    "                        b.append(normals[row_i, col_j, 0])\n",
    "                        row_indices.append(c)\n",
    "                        col_indices.append(k)\n",
    "                        data_arr.append(-normals[row_i, col_j, 2])\n",
    "                        row_indices.append(c)\n",
    "                        col_indices.append(k + 1)\n",
    "                        data_arr.append(normals[row_i, col_j, 2])\n",
    "                        c += 1\n",
    "                    if row_i + 1 <= height - 1 and alpha[row_i + 1, col_j] != 0:\n",
    "                        # y-axis normals\n",
    "                        b.append(-normals[row_i, col_j, 1])\n",
    "                        row_indices.append(c)\n",
    "                        col_indices.append(k)\n",
    "                        data_arr.append(-normals[row_i, col_j, 2])\n",
    "                        row_indices.append(c)\n",
    "                        col_indices.append(k + width)\n",
    "                        data_arr.append(normals[row_i, col_j, 2])\n",
    "                        c += 1\n",
    "    row = c\n",
    "\n",
    "    row_indices = np.array(row_indices, dtype=np.int32)\n",
    "    col_indices = np.array(col_indices, dtype=np.int32)\n",
    "    data_arr = np.array(data_arr, dtype=np.float32)\n",
    "    b = np.array(b, dtype=np.float32)\n",
    "\n",
    "    # Sparse matrix from the data and indices\n",
    "    M = csr_matrix((data_arr, (row_indices, col_indices)), shape=(row, width * height))\n",
    "\n",
    "    return M, b"
   ]
  },
  {
   "cell_type": "code",
   "execution_count": 3,
   "metadata": {},
   "outputs": [],
   "source": [
    "def plot_3D(X, Y, Z):\t\t\n",
    "\tfig = plt.figure()\n",
    "\tax = fig.gca(projection=\"3d\")\n",
    "\tsurf = ax.plot_surface(X,Y,Z, cmap= cm.coolwarm,linewidth=0, antialiased=False)\n",
    "\tfig.colorbar(surf, shrink=0.5, aspect=5)\n",
    "\tplt.show()"
   ]
  },
  {
   "cell_type": "code",
   "execution_count": 4,
   "metadata": {},
   "outputs": [],
   "source": [
    "def extract_and_save_DepthMap(folder, mask_set):\t\n",
    "\t\"\"\"\n",
    "\tInput:\n",
    "\tfolder: \tLocation of the dataset containing subfolder output etc\n",
    "\tmask_set: \tIf set to None, a mask is initialized using the dimensions of normal\n",
    "\t\t\t\tOr set it with a mask of shape (normal.shape[0], normals.shape[1])\n",
    "\tOutput:\n",
    "\t\n",
    "\t\n",
    "\t\"\"\"\n",
    "\tnormal_npy_name = str(pathlib.Path(folder) / \"outputs\" / \"normals.npy\")\n",
    "\talbedo_name = str(pathlib.Path(folder) / \"outputs\" / \"albedo.png\")\n",
    "\n",
    "\t#log names\n",
    "\tdepth_name = str(pathlib.Path(folder) / \"outputs\" / \"depth.png\")\n",
    "\tdepth_npy_name = str(pathlib.Path(folder) / \"outputs\" / \"depth.npy\")\n",
    "\t\n",
    "\talbedo = cv2.imread(albedo_name, 0)\n",
    "\tnormals = np.load(normal_npy_name)\n",
    "\tif mask_set:\n",
    "\t\tmask = mask_set\n",
    "\telse:\n",
    "\t\tmask = np.ones(normals.shape[:2])\n",
    "\t\n",
    "\tprint(\"Normals shape: \", normals.shape)\n",
    "\tprint(\"Mask shape: \", mask.shape)\n",
    "\t\t\n",
    "\theight = mask.shape[0]\n",
    "\twidth = mask.shape[1]\n",
    "\talpha = mask\n",
    "\tdepth_weight = 1.0\n",
    "\t# ~ depth = deepcopy(mask)\n",
    "\tdepth = albedo\n",
    "\t\n",
    "\tprint(\"Forming Linear equation coefficients...\")\n",
    "\tM, b = matrices_for_linear_equation(alpha, normals, depth_weight, depth, height, width)\n",
    "\t\n",
    "\tprint(\"Solving for Least squares solution...\")\t\n",
    "\tsolution = lsqr(M,b)\n",
    "\tx = solution[0]\n",
    "\tdepth = x.reshape(mask.shape)\n",
    "\t\n",
    "\tprint(\"Depth values range from \", depth.min(), \" to \", depth.max() )\n",
    "\tnp.save(depth_npy_name, depth)\n",
    "\tcv2.imwrite(depth_name, np.clip(np.array(depth), 0,255).astype(np.uint8) )\n",
    "\t\n",
    "\tX, Y = np.meshgrid(np.arange(height), np.arange(width))\n",
    "\tZ = depth.T\n",
    "\tprint(\"\\n Use Mouse to view the visualized 3D information from different perspectives.\")\n",
    "\tplot_3D(X, Y, Z)\n",
    "\tprint(\"End.\")\n"
   ]
  },
  {
   "cell_type": "code",
   "execution_count": 5,
   "metadata": {},
   "outputs": [
    {
     "name": "stdout",
     "output_type": "stream",
     "text": [
      "Normals shape:  (256, 256, 3)\n",
      "Mask shape:  (256, 256)\n",
      "Forming Linear equation coefficients...\n",
      "Solving for Least squares solution...\n",
      "Depth values range from  0.0  to  251.82330176964325\n",
      "\n",
      " Use Mouse to view the visualized 3D information from different perspectives.\n"
     ]
    },
    {
     "data": {
      "image/png": "[encoded data removed]",
      "text/plain": [
       "<Figure size 432x288 with 2 Axes>"
      ]
     },
     "metadata": {
      "needs_background": "light"
     },
     "output_type": "display_data"
    },
    {
     "name": "stdout",
     "output_type": "stream",
     "text": [
      "End.\n",
      "Depth estimation Done\n"
     ]
    }
   ],
   "source": [
    "folder = \"../Data/Chrome_simulated/\"\n",
    "mask_set = None\n",
    "extract_and_save_DepthMap(folder, mask_set)\n",
    "print(\"Depth estimation Done\")"
   ]
  },
  {
   "cell_type": "code",
   "execution_count": null,
   "metadata": {},
   "outputs": [],
   "source": []
  }
 ],
 "metadata": {
  "kernelspec": {
   "display_name": "Python 3",
   "language": "python",
   "name": "python3"
  },
  "language_info": {
   "codemirror_mode": {
    "name": "ipython",
    "version": 3
   },
   "file_extension": ".py",
   "mimetype": "text/x-python",
   "name": "python",
   "nbconvert_exporter": "python",
   "pygments_lexer": "ipython3",
   "version": "3.6.9"
  }
 },
 "nbformat": 4,
 "nbformat_minor": 4
}
