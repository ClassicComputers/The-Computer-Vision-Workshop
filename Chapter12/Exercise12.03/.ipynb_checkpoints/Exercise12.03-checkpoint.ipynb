{
 "cells": [
  {
   "cell_type": "markdown",
   "metadata": {},
   "source": [
    "# Import libraries"
   ]
  },
  {
   "cell_type": "code",
   "execution_count": 1,
   "metadata": {},
   "outputs": [],
   "source": [
    "import open3d as o3d\n",
    "import numpy as np # to access data fields\n",
    "import copy # create deep copy"
   ]
  },
  {
   "cell_type": "markdown",
   "metadata": {},
   "source": [
    "# read point cloud file from directory"
   ]
  },
  {
   "cell_type": "code",
   "execution_count": 2,
   "metadata": {},
   "outputs": [],
   "source": [
    "# supports .pcd, .ply, .xyz, .xyzrgb, .xyzn, .pts files\n",
    "point_cloud = o3d.io.read_point_cloud(\"point_cloud_files/fragment.ply\")"
   ]
  },
  {
   "cell_type": "code",
   "execution_count": 3,
   "metadata": {},
   "outputs": [
    {
     "data": {
      "text/plain": [
       "geometry::PointCloud with 196133 points."
      ]
     },
     "execution_count": 3,
     "metadata": {},
     "output_type": "execute_result"
    }
   ],
   "source": [
    "# shows number of points in that point cloud\n",
    "point_cloud"
   ]
  },
  {
   "cell_type": "code",
   "execution_count": 4,
   "metadata": {},
   "outputs": [],
   "source": [
    "# create a deep copy\n",
    "point_cloud1 = copy.deepcopy(point_cloud)"
   ]
  },
  {
   "cell_type": "code",
   "execution_count": 5,
   "metadata": {},
   "outputs": [
    {
     "data": {
      "text/plain": [
       "array([[0.65234375, 0.84686458, 2.37890625],\n",
       "       [0.65234375, 0.83984375, 2.38430572],\n",
       "       [0.66737998, 0.83984375, 2.37890625],\n",
       "       ...,\n",
       "       [2.00839925, 2.39453125, 1.88671875],\n",
       "       [2.00390625, 2.39488506, 1.88671875],\n",
       "       [2.00390625, 2.39453125, 1.88793314]])"
      ]
     },
     "execution_count": 5,
     "metadata": {},
     "output_type": "execute_result"
    }
   ],
   "source": [
    "# coordinates each point in a point cloud\n",
    "np.asarray(point_cloud.points)"
   ]
  },
  {
   "cell_type": "code",
   "execution_count": 6,
   "metadata": {},
   "outputs": [],
   "source": [
    "# visulaize the shape of point cloud\n",
    "o3d.visualization.draw_geometries([point_cloud])"
   ]
  },
  {
   "cell_type": "code",
   "execution_count": 7,
   "metadata": {},
   "outputs": [
    {
     "data": {
      "text/plain": [
       "geometry::PointCloud with 196133 points."
      ]
     },
     "execution_count": 7,
     "metadata": {},
     "output_type": "execute_result"
    }
   ],
   "source": [
    "# inver the point cloud\n",
    "point_cloud1.transform([[1, 0, 0, 0], [0, -1, 0, 0], [0, 0, -1, 0], [0, 0, 0, 1]])"
   ]
  },
  {
   "cell_type": "code",
   "execution_count": 8,
   "metadata": {},
   "outputs": [],
   "source": [
    "o3d.visualization.draw_geometries([point_cloud1])"
   ]
  },
  {
   "cell_type": "markdown",
   "metadata": {},
   "source": [
    "# voxel grid is used to downsample the point cloud"
   ]
  },
  {
   "cell_type": "code",
   "execution_count": 9,
   "metadata": {},
   "outputs": [],
   "source": [
    "# vary the voxel size to see the different results\n",
    "downsample_point_cloud = point_cloud1.voxel_down_sample(voxel_size=0.05)"
   ]
  },
  {
   "cell_type": "code",
   "execution_count": 10,
   "metadata": {},
   "outputs": [
    {
     "data": {
      "text/plain": [
       "geometry::PointCloud with 4838 points."
      ]
     },
     "execution_count": 10,
     "metadata": {},
     "output_type": "execute_result"
    }
   ],
   "source": [
    "downsample_point_cloud"
   ]
  },
  {
   "cell_type": "code",
   "execution_count": 11,
   "metadata": {},
   "outputs": [],
   "source": [
    "# visualize down sampled point cloud\n",
    "o3d.visualization.draw_geometries([downsample_point_cloud])"
   ]
  },
  {
   "cell_type": "markdown",
   "metadata": {},
   "source": [
    "# compute normals of point cloud (normals to the surface) "
   ]
  },
  {
   "cell_type": "code",
   "execution_count": 12,
   "metadata": {},
   "outputs": [
    {
     "data": {
      "text/plain": [
       "True"
      ]
     },
     "execution_count": 12,
     "metadata": {},
     "output_type": "execute_result"
    }
   ],
   "source": [
    "downsample_point_cloud.estimate_normals(search_param=o3d.geometry.KDTreeSearchParamHybrid(radius=0.05, max_nn=25))"
   ]
  },
  {
   "cell_type": "code",
   "execution_count": 14,
   "metadata": {},
   "outputs": [
    {
     "data": {
      "text/plain": [
       "array([[ 0.        ,  0.        ,  1.        ],\n",
       "       [ 0.98209361,  0.17426431,  0.0715827 ],\n",
       "       [-0.35068565, -0.10626117,  0.93044513],\n",
       "       [-0.27722831, -0.00869705,  0.96076471],\n",
       "       [-0.25257612,  0.00935166,  0.96753183],\n",
       "       [ 0.        ,  0.        ,  1.        ],\n",
       "       [-0.30487069, -0.12162123,  0.94459628],\n",
       "       [ 0.        ,  0.        ,  1.        ],\n",
       "       [ 0.09745238,  0.99474025,  0.03154146],\n",
       "       [-0.31332699,  0.05240977,  0.94819798]])"
      ]
     },
     "execution_count": 14,
     "metadata": {},
     "output_type": "execute_result"
    }
   ],
   "source": [
    "# normal vectors (coordinates) of the first 10 points in the point cloud\n",
    "np.asarray(downsample_point_cloud.normals)[:10, :]"
   ]
  },
  {
   "cell_type": "code",
   "execution_count": 15,
   "metadata": {},
   "outputs": [],
   "source": [
    "# visualize normals of down sampled point cloud\n",
    "o3d.visualization.draw_geometries([downsample_point_cloud])"
   ]
  },
  {
   "cell_type": "markdown",
   "metadata": {},
   "source": [
    "# read coordinates from json file and crop a section"
   ]
  },
  {
   "cell_type": "code",
   "execution_count": 16,
   "metadata": {},
   "outputs": [],
   "source": [
    "polygon_volume = o3d.visualization.read_selection_polygon_volume('point_cloud_files/cropped.json')\n",
    "croppped_object = polygon_volume.crop_point_cloud(point_cloud)"
   ]
  },
  {
   "cell_type": "code",
   "execution_count": 17,
   "metadata": {},
   "outputs": [
    {
     "data": {
      "text/plain": [
       "geometry::PointCloud with 31337 points."
      ]
     },
     "execution_count": 17,
     "metadata": {},
     "output_type": "execute_result"
    }
   ],
   "source": [
    "croppped_object"
   ]
  },
  {
   "cell_type": "code",
   "execution_count": 26,
   "metadata": {},
   "outputs": [],
   "source": [
    "# note that image in the window may appear zoomed in. We can zoom out using mouse cursor (touchpad).\n",
    "o3d.visualization.draw_geometries([croppped_object])"
   ]
  },
  {
   "cell_type": "code",
   "execution_count": 19,
   "metadata": {},
   "outputs": [
    {
     "data": {
      "text/plain": [
       "geometry::PointCloud with 31337 points."
      ]
     },
     "execution_count": 19,
     "metadata": {},
     "output_type": "execute_result"
    }
   ],
   "source": [
    "croppped_object.transform([[1, 0, 0, 0], [0, -1, 0, 0], [0, 0, -1, 0], [0, 0, 0, 1]])"
   ]
  },
  {
   "cell_type": "code",
   "execution_count": 20,
   "metadata": {},
   "outputs": [],
   "source": [
    "o3d.visualization.draw_geometries([croppped_object])"
   ]
  },
  {
   "cell_type": "code",
   "execution_count": 22,
   "metadata": {},
   "outputs": [],
   "source": [
    "# change the color of point colour using visualization module. The argument of pain_uniform_color() represents RGB propprtion.\n",
    "croppped_object.paint_uniform_color([0, 0.706, 1])\n",
    "o3d.visualization.draw_geometries([croppped_object])"
   ]
  },
  {
   "cell_type": "code",
   "execution_count": null,
   "metadata": {},
   "outputs": [],
   "source": []
  }
 ],
 "metadata": {
  "kernelspec": {
   "display_name": "Python 3",
   "language": "python",
   "name": "python3"
  },
  "language_info": {
   "codemirror_mode": {
    "name": "ipython",
    "version": 3
   },
   "file_extension": ".py",
   "mimetype": "text/x-python",
   "name": "python",
   "nbconvert_exporter": "python",
   "pygments_lexer": "ipython3",
   "version": "3.6.5"
  }
 },
 "nbformat": 4,
 "nbformat_minor": 2
}
