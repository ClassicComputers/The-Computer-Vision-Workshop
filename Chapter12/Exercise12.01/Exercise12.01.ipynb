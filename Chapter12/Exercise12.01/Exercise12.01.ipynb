{
 "cells": [
  {
   "cell_type": "code",
   "execution_count": 1,
   "metadata": {},
   "outputs": [],
   "source": [
    "# Import libraries\n",
    "import open3d as o3d\n",
    "import numpy as np"
   ]
  },
  {
   "cell_type": "markdown",
   "metadata": {},
   "source": [
    "# generate point cloud"
   ]
  },
  {
   "cell_type": "code",
   "execution_count": 2,
   "metadata": {},
   "outputs": [],
   "source": [
    "# create normally distributed vector \n",
    "random_vector = np.random.randn(500,3)"
   ]
  },
  {
   "cell_type": "code",
   "execution_count": 3,
   "metadata": {},
   "outputs": [],
   "source": [
    "# instantiate a point cloud class\n",
    "point_cloud = o3d.geometry.PointCloud()"
   ]
  },
  {
   "cell_type": "code",
   "execution_count": 4,
   "metadata": {},
   "outputs": [],
   "source": [
    "# convert numpy array of shape (n, 3) in 3D vectors\n",
    "point_cloud.points = o3d.utility.Vector3dVector(random_vector)"
   ]
  },
  {
   "cell_type": "code",
   "execution_count": 5,
   "metadata": {},
   "outputs": [
    {
     "name": "stdout",
     "output_type": "stream",
     "text": [
      "geometry::PointCloud with 500 points.\n"
     ]
    }
   ],
   "source": [
    "print(point_cloud)"
   ]
  },
  {
   "cell_type": "code",
   "execution_count": 6,
   "metadata": {},
   "outputs": [],
   "source": [
    "# visualize point cloud\n",
    "o3d.visualization.draw_geometries([point_cloud])"
   ]
  },
  {
   "cell_type": "markdown",
   "metadata": {},
   "source": [
    "# generate mesh"
   ]
  },
  {
   "cell_type": "code",
   "execution_count": 7,
   "metadata": {},
   "outputs": [],
   "source": [
    "# instantiate a triangle mesh class\n",
    "triangle_mesh = o3d.geometry.TriangleMesh()"
   ]
  },
  {
   "cell_type": "code",
   "execution_count": 8,
   "metadata": {},
   "outputs": [],
   "source": [
    "# create position of vertices and indexes of triangles\n",
    "np_vertices = np.array([[-1, 2, 0], [1, 2, 1], [0, 0, 0], [2, 0, 1], [2, 1, 1], [0, -1, 1], [1, 1, 1]])\n",
    "np_triangles = np.array([[0, 2, 1], [1, 2, 3], [0, 2, 4], [0, 1, 2], [1, 3, 5], [0, 5, 6]]).astype(np.int32)"
   ]
  },
  {
   "cell_type": "code",
   "execution_count": 9,
   "metadata": {},
   "outputs": [],
   "source": [
    "# convert numpy array of shape (n, 3) in 3D vectors\n",
    "triangle_mesh.vertices = o3d.utility.Vector3dVector(np_vertices)"
   ]
  },
  {
   "cell_type": "code",
   "execution_count": 10,
   "metadata": {},
   "outputs": [],
   "source": [
    "# convert int numpy array of shape (n, 3) in 3D vectors\n",
    "triangle_mesh.triangles = o3d.utility.Vector3iVector(np_triangles)"
   ]
  },
  {
   "cell_type": "code",
   "execution_count": 11,
   "metadata": {},
   "outputs": [
    {
     "name": "stdout",
     "output_type": "stream",
     "text": [
      "geometry::TriangleMesh with 7 points and 6 triangles.\n"
     ]
    }
   ],
   "source": [
    "print(triangle_mesh)"
   ]
  },
  {
   "cell_type": "code",
   "execution_count": 12,
   "metadata": {},
   "outputs": [],
   "source": [
    "o3d.visualization.draw_geometries([triangle_mesh])"
   ]
  },
  {
   "cell_type": "code",
   "execution_count": 13,
   "metadata": {},
   "outputs": [],
   "source": [
    "# compute normals and visualize\n",
    "triangle_mesh.compute_vertex_normals()\n",
    "o3d.visualization.draw_geometries([triangle_mesh])"
   ]
  },
  {
   "cell_type": "code",
   "execution_count": 14,
   "metadata": {},
   "outputs": [],
   "source": [
    "# uniform colour to the triangle mesh\n",
    "triangle_mesh.paint_uniform_color([0.3, 0.8, 1])\n",
    "o3d.visualization.draw_geometries([triangle_mesh])"
   ]
  },
  {
   "cell_type": "code",
   "execution_count": null,
   "metadata": {},
   "outputs": [],
   "source": []
  }
 ],
 "metadata": {
  "kernelspec": {
   "display_name": "Python 3",
   "language": "python",
   "name": "python3"
  },
  "language_info": {
   "codemirror_mode": {
    "name": "ipython",
    "version": 3
   },
   "file_extension": ".py",
   "mimetype": "text/x-python",
   "name": "python",
   "nbconvert_exporter": "python",
   "pygments_lexer": "ipython3",
   "version": "3.6.5"
  }
 },
 "nbformat": 4,
 "nbformat_minor": 2
}
