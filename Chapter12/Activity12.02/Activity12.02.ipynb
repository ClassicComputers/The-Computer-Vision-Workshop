{
 "cells": [
  {
   "cell_type": "markdown",
   "metadata": {},
   "source": [
    "# Import libraries"
   ]
  },
  {
   "cell_type": "code",
   "execution_count": 1,
   "metadata": {},
   "outputs": [],
   "source": [
    "import open3d as o3d\n",
    "import numpy as np"
   ]
  },
  {
   "cell_type": "markdown",
   "metadata": {},
   "source": [
    "# create a 3D function"
   ]
  },
  {
   "cell_type": "code",
   "execution_count": 2,
   "metadata": {},
   "outputs": [],
   "source": [
    "# create evenly spaced numbers over a interval.\n",
    "x = np.linspace(-4, 4, 400)"
   ]
  },
  {
   "cell_type": "code",
   "execution_count": 3,
   "metadata": {},
   "outputs": [],
   "source": [
    "# create a rectangular grid\n",
    "mesh_x, mesh_y = np.meshgrid(x, x)"
   ]
  },
  {
   "cell_type": "code",
   "execution_count": 4,
   "metadata": {},
   "outputs": [],
   "source": [
    "# create a sinc function\n",
    "sinc = np.sinc((np.power(mesh_x, 2) + np.power(mesh_y, 2)))"
   ]
  },
  {
   "cell_type": "code",
   "execution_count": 5,
   "metadata": {},
   "outputs": [],
   "source": [
    "# normalize sinc (range of sinc is 0 to 1)\n",
    "norm_sinc = (sinc - sinc.min()) / (sinc.max() - sinc.min())"
   ]
  },
  {
   "cell_type": "code",
   "execution_count": 6,
   "metadata": {},
   "outputs": [],
   "source": [
    "# initialize a zero matrix and assign value of mesh values and norm_sinc to each column of matrix\n",
    "matrix = np.zeros((np.size(mesh_x), 3))\n",
    "matrix[:, 0] = np.reshape(mesh_x, -1)\n",
    "matrix[:, 1] = np.reshape(mesh_y, -1)\n",
    "matrix[:, 2] = np.reshape(norm_sinc, -1)"
   ]
  },
  {
   "cell_type": "markdown",
   "metadata": {},
   "source": [
    "# create a point cloud and write it in a file"
   ]
  },
  {
   "cell_type": "code",
   "execution_count": 7,
   "metadata": {},
   "outputs": [],
   "source": [
    "# instantiate a point cloud class\n",
    "point_cloud = o3d.geometry.PointCloud()\n",
    "\n",
    "# convert a 2D array into 3D format\n",
    "point_cloud.points = o3d.utility.Vector3dVector(matrix)"
   ]
  },
  {
   "cell_type": "code",
   "execution_count": 8,
   "metadata": {},
   "outputs": [
    {
     "data": {
      "text/plain": [
       "True"
      ]
     },
     "execution_count": 8,
     "metadata": {},
     "output_type": "execute_result"
    }
   ],
   "source": [
    "# write the point cloud in a file\n",
    "o3d.io.write_point_cloud(\"matrix.pcd\", point_cloud)"
   ]
  },
  {
   "cell_type": "markdown",
   "metadata": {},
   "source": [
    "# read point cloud file and display it"
   ]
  },
  {
   "cell_type": "code",
   "execution_count": 9,
   "metadata": {},
   "outputs": [],
   "source": [
    "load_point_cloud = o3d.io.read_point_cloud(\"matrix.pcd\")\n",
    "o3d.visualization.draw_geometries([load_point_cloud])"
   ]
  },
  {
   "cell_type": "code",
   "execution_count": 10,
   "metadata": {},
   "outputs": [
    {
     "name": "stdout",
     "output_type": "stream",
     "text": [
      "[[-4.         -4.          0.17846423]\n",
      " [-3.97994995 -4.          0.1745076 ]\n",
      " [-3.95989966 -4.          0.17150612]\n",
      " ...\n",
      " [ 3.95989966  4.          0.17150612]\n",
      " [ 3.97994995  4.          0.1745076 ]\n",
      " [ 4.          4.          0.17846423]]\n"
     ]
    }
   ],
   "source": [
    "# access point cloud values using numpy array\n",
    "print(np.asarray(load_point_cloud.points))"
   ]
  },
  {
   "cell_type": "code",
   "execution_count": 11,
   "metadata": {},
   "outputs": [
    {
     "data": {
      "text/plain": [
       "True"
      ]
     },
     "execution_count": 11,
     "metadata": {},
     "output_type": "execute_result"
    }
   ],
   "source": [
    "# save z norm as an image\n",
    "image = o3d.geometry.Image((norm_sinc*255).astype(np.uint8))\n",
    "o3d.io.write_image(\"sinc.png\", image)"
   ]
  },
  {
   "cell_type": "code",
   "execution_count": null,
   "metadata": {},
   "outputs": [],
   "source": []
  }
 ],
 "metadata": {
  "kernelspec": {
   "display_name": "Python 3",
   "language": "python",
   "name": "python3"
  },
  "language_info": {
   "codemirror_mode": {
    "name": "ipython",
    "version": 3
   },
   "file_extension": ".py",
   "mimetype": "text/x-python",
   "name": "python",
   "nbconvert_exporter": "python",
   "pygments_lexer": "ipython3",
   "version": "3.6.5"
  }
 },
 "nbformat": 4,
 "nbformat_minor": 2
}
