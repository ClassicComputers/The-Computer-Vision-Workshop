{
 "cells": [
  {
   "cell_type": "markdown",
   "metadata": {},
   "source": [
    "# Import libraries"
   ]
  },
  {
   "cell_type": "code",
   "execution_count": 1,
   "metadata": {},
   "outputs": [],
   "source": [
    "import open3d as o3d\n",
    "import numpy as np"
   ]
  },
  {
   "cell_type": "markdown",
   "metadata": {},
   "source": [
    "# read point cloud file from directory"
   ]
  },
  {
   "cell_type": "code",
   "execution_count": 2,
   "metadata": {},
   "outputs": [],
   "source": [
    "point_cloud_files = 'point_cloud_files/table_scene.pcd'"
   ]
  },
  {
   "cell_type": "code",
   "execution_count": 3,
   "metadata": {},
   "outputs": [],
   "source": [
    "point_cloud = o3d.io.read_point_cloud(point_cloud_files)"
   ]
  },
  {
   "cell_type": "code",
   "execution_count": 4,
   "metadata": {},
   "outputs": [
    {
     "name": "stdout",
     "output_type": "stream",
     "text": [
      "geometry::PointCloud with 460400 points.\n"
     ]
    }
   ],
   "source": [
    "# shows number of points in that point cloud\n",
    "print(point_cloud)"
   ]
  },
  {
   "cell_type": "code",
   "execution_count": 5,
   "metadata": {},
   "outputs": [
    {
     "name": "stdout",
     "output_type": "stream",
     "text": [
      "[[-0.93387002 -0.6825     -1.18649995]\n",
      " [-0.93172997 -0.68322998 -1.18780005]\n",
      " [-0.92185003 -0.68054003 -1.18309999]\n",
      " ...\n",
      " [-0.12585001  0.38914001 -1.35699999]\n",
      " [-0.14683001  0.36662    -1.27849996]\n",
      " [-0.12884     0.37395999 -1.30410004]]\n"
     ]
    }
   ],
   "source": [
    "# coordinates each point in a point cloud\n",
    "print(np.asarray(point_cloud.points))"
   ]
  },
  {
   "cell_type": "code",
   "execution_count": 6,
   "metadata": {},
   "outputs": [],
   "source": [
    "# visulaize the shape of point cloud\n",
    "o3d.visualization.draw_geometries([point_cloud])"
   ]
  },
  {
   "cell_type": "markdown",
   "metadata": {},
   "source": [
    "# voxel grid is used to downsample the point cloud"
   ]
  },
  {
   "cell_type": "code",
   "execution_count": 7,
   "metadata": {},
   "outputs": [],
   "source": [
    "# vary the voxel size to see the different results\n",
    "downsample_point_cloud = point_cloud.voxel_down_sample(voxel_size=0.03)"
   ]
  },
  {
   "cell_type": "code",
   "execution_count": 8,
   "metadata": {},
   "outputs": [
    {
     "name": "stdout",
     "output_type": "stream",
     "text": [
      "geometry::PointCloud with 5567 points.\n"
     ]
    }
   ],
   "source": [
    "print(downsample_point_cloud)"
   ]
  },
  {
   "cell_type": "code",
   "execution_count": 9,
   "metadata": {},
   "outputs": [],
   "source": [
    "# visualize down sampled point cloud\n",
    "o3d.visualization.draw_geometries([downsample_point_cloud])"
   ]
  },
  {
   "cell_type": "markdown",
   "metadata": {},
   "source": [
    "# compute normals of point cloud (normals to the surface) "
   ]
  },
  {
   "cell_type": "code",
   "execution_count": 10,
   "metadata": {},
   "outputs": [
    {
     "data": {
      "text/plain": [
       "True"
      ]
     },
     "execution_count": 10,
     "metadata": {},
     "output_type": "execute_result"
    }
   ],
   "source": [
    "downsample_point_cloud.estimate_normals(search_param=o3d.geometry.KDTreeSearchParamHybrid(radius=0.05, max_nn=20))"
   ]
  },
  {
   "cell_type": "code",
   "execution_count": 11,
   "metadata": {},
   "outputs": [
    {
     "data": {
      "text/plain": [
       "array([[-2.23750138e-02, -8.96350236e-01, -4.42781676e-01],\n",
       "       [-6.66245883e-04, -8.63741453e-01, -5.03934775e-01],\n",
       "       [-1.44605385e-01,  8.98022339e-01, -4.15505910e-01],\n",
       "       [ 8.08509699e-03, -8.66763739e-01, -4.98653439e-01],\n",
       "       [ 4.04184149e-03, -8.77492375e-01, -4.79573555e-01],\n",
       "       [ 7.54882405e-01,  2.82563817e-02, -6.55251197e-01],\n",
       "       [ 8.12730448e-01,  2.82262982e-02, -5.81955750e-01],\n",
       "       [ 1.66469951e-03,  8.89480439e-01,  4.56970215e-01],\n",
       "       [ 7.87640881e-01,  4.68020367e-01, -4.00722819e-01],\n",
       "       [-2.62242033e-03, -8.75183498e-01, -4.83784009e-01]])"
      ]
     },
     "execution_count": 11,
     "metadata": {},
     "output_type": "execute_result"
    }
   ],
   "source": [
    "# normal vectors (coordinates) of the first 10 points in the point cloud\n",
    "np.asarray(downsample_point_cloud.normals)[:10, :]"
   ]
  },
  {
   "cell_type": "code",
   "execution_count": 12,
   "metadata": {},
   "outputs": [],
   "source": [
    "# visualize normals of down sampled point cloud\n",
    "o3d.visualization.draw_geometries([downsample_point_cloud])"
   ]
  },
  {
   "cell_type": "code",
   "execution_count": null,
   "metadata": {},
   "outputs": [],
   "source": []
  }
 ],
 "metadata": {
  "kernelspec": {
   "display_name": "Python 3",
   "language": "python",
   "name": "python3"
  },
  "language_info": {
   "codemirror_mode": {
    "name": "ipython",
    "version": 3
   },
   "file_extension": ".py",
   "mimetype": "text/x-python",
   "name": "python",
   "nbconvert_exporter": "python",
   "pygments_lexer": "ipython3",
   "version": "3.6.5"
  }
 },
 "nbformat": 4,
 "nbformat_minor": 2
}
