{
 "cells": [
  {
   "cell_type": "code",
   "execution_count": null,
   "metadata": {},
   "outputs": [],
   "source": [
    "import cv2\n",
    "import matplotlib.pyplot as plt\n",
    "img = cv2.imread('nature-branch-blossom-light-plant-photography-1361811-pxhere.com.jpg')\n",
    "\n",
    "#imgHSV = cv2.cvtColor(img,cv2.COLOR_BGR2HSV);\n",
    "b,g,r = cv2.split(img);\n",
    "\n",
    "clahe = cv2.createCLAHE(clipLimit=4.0, tileGridSize=(16,16))\n",
    "b = clahe.apply(b)\n",
    "g = clahe.apply(g)\n",
    "r = clahe.apply(r)\n",
    "\n",
    "bgr = cv2.merge([b,g,r]);\n",
    "rgb = cv2.cvtColor(bgr,cv2.COLOR_BGR2RGB);\n",
    "    \n",
    "cv2.imwrite('RGB CLAHE.png',rgb)\n",
    "origrgb = cv2.cvtColor(img,cv2.COLOR_BGR2RGB);\n",
    "imgplot = plt.imshow(origrgb)\n",
    "plt.title('Original')\n",
    "plt.show()\n",
    "imgplot = plt.imshow(rgb)\n",
    "plt.title('CLAHE in RGB')\n",
    "plt.show()"
   ]
  }
 ],
 "metadata": {
  "kernelspec": {
   "display_name": "Python 3",
   "language": "python",
   "name": "python3"
  },
  "language_info": {
   "codemirror_mode": {
    "name": "ipython",
    "version": 3
   },
   "file_extension": ".py",
   "mimetype": "text/x-python",
   "name": "python",
   "nbconvert_exporter": "python",
   "pygments_lexer": "ipython3",
   "version": "3.7.4"
  }
 },
 "nbformat": 4,
 "nbformat_minor": 2
}
